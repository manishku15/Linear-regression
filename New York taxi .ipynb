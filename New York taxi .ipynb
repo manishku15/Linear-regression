{
 "cells": [
  {
   "cell_type": "markdown",
   "id": "f0a7849e",
   "metadata": {},
   "source": [
    "## Importing important library"
   ]
  },
  {
   "cell_type": "code",
   "execution_count": 1,
   "id": "10960466",
   "metadata": {},
   "outputs": [],
   "source": [
    "import os \n",
    "import pandas as pd\n",
    "import numpy as np \n",
    "import matplotlib.pyplot as plt\n",
    "import seaborn as sns\n",
    "\n",
    "sns.set()"
   ]
  },
  {
   "cell_type": "markdown",
   "id": "3b354375",
   "metadata": {},
   "source": [
    "## Read the data"
   ]
  },
  {
   "cell_type": "code",
   "execution_count": 2,
   "id": "a9147fdb",
   "metadata": {},
   "outputs": [],
   "source": [
    "df_main = pd.read_parquet(r\"C:\\Users\\Manish kumar\\Downloads\\yellow_tripdata_2022-09 .parquet\")"
   ]
  },
  {
   "cell_type": "code",
   "execution_count": 3,
   "id": "583f0ca5",
   "metadata": {},
   "outputs": [],
   "source": [
    "df_100000=df_main.sample(100000, random_state=0)"
   ]
  },
  {
   "cell_type": "code",
   "execution_count": 4,
   "id": "2e4a6fea",
   "metadata": {},
   "outputs": [],
   "source": [
    "df= df_100000.copy()"
   ]
  },
  {
   "cell_type": "code",
   "execution_count": 5,
   "id": "75eacf65",
   "metadata": {},
   "outputs": [
    {
     "data": {
      "text/html": [
       "<div>\n",
       "<style scoped>\n",
       "    .dataframe tbody tr th:only-of-type {\n",
       "        vertical-align: middle;\n",
       "    }\n",
       "\n",
       "    .dataframe tbody tr th {\n",
       "        vertical-align: top;\n",
       "    }\n",
       "\n",
       "    .dataframe thead th {\n",
       "        text-align: right;\n",
       "    }\n",
       "</style>\n",
       "<table border=\"1\" class=\"dataframe\">\n",
       "  <thead>\n",
       "    <tr style=\"text-align: right;\">\n",
       "      <th></th>\n",
       "      <th>VendorID</th>\n",
       "      <th>tpep_pickup_datetime</th>\n",
       "      <th>tpep_dropoff_datetime</th>\n",
       "      <th>passenger_count</th>\n",
       "      <th>trip_distance</th>\n",
       "      <th>RatecodeID</th>\n",
       "      <th>store_and_fwd_flag</th>\n",
       "      <th>PULocationID</th>\n",
       "      <th>DOLocationID</th>\n",
       "      <th>payment_type</th>\n",
       "      <th>fare_amount</th>\n",
       "      <th>extra</th>\n",
       "      <th>mta_tax</th>\n",
       "      <th>tip_amount</th>\n",
       "      <th>tolls_amount</th>\n",
       "      <th>improvement_surcharge</th>\n",
       "      <th>total_amount</th>\n",
       "      <th>congestion_surcharge</th>\n",
       "      <th>airport_fee</th>\n",
       "    </tr>\n",
       "  </thead>\n",
       "  <tbody>\n",
       "    <tr>\n",
       "      <th>1895567</th>\n",
       "      <td>1</td>\n",
       "      <td>2022-09-20 10:08:19</td>\n",
       "      <td>2022-09-20 10:32:24</td>\n",
       "      <td>1.0</td>\n",
       "      <td>3.30</td>\n",
       "      <td>99.0</td>\n",
       "      <td>N</td>\n",
       "      <td>25</td>\n",
       "      <td>62</td>\n",
       "      <td>1</td>\n",
       "      <td>17.2</td>\n",
       "      <td>0.0</td>\n",
       "      <td>0.5</td>\n",
       "      <td>0.00</td>\n",
       "      <td>0.0</td>\n",
       "      <td>0.3</td>\n",
       "      <td>18.00</td>\n",
       "      <td>0.0</td>\n",
       "      <td>0.00</td>\n",
       "    </tr>\n",
       "    <tr>\n",
       "      <th>2729396</th>\n",
       "      <td>2</td>\n",
       "      <td>2022-09-28 10:26:30</td>\n",
       "      <td>2022-09-28 11:06:53</td>\n",
       "      <td>1.0</td>\n",
       "      <td>11.78</td>\n",
       "      <td>1.0</td>\n",
       "      <td>N</td>\n",
       "      <td>132</td>\n",
       "      <td>17</td>\n",
       "      <td>1</td>\n",
       "      <td>38.5</td>\n",
       "      <td>0.0</td>\n",
       "      <td>0.5</td>\n",
       "      <td>7.86</td>\n",
       "      <td>0.0</td>\n",
       "      <td>0.3</td>\n",
       "      <td>48.41</td>\n",
       "      <td>0.0</td>\n",
       "      <td>1.25</td>\n",
       "    </tr>\n",
       "    <tr>\n",
       "      <th>2800893</th>\n",
       "      <td>2</td>\n",
       "      <td>2022-09-28 20:08:54</td>\n",
       "      <td>2022-09-28 20:20:53</td>\n",
       "      <td>1.0</td>\n",
       "      <td>1.96</td>\n",
       "      <td>1.0</td>\n",
       "      <td>N</td>\n",
       "      <td>161</td>\n",
       "      <td>68</td>\n",
       "      <td>1</td>\n",
       "      <td>9.5</td>\n",
       "      <td>1.0</td>\n",
       "      <td>0.5</td>\n",
       "      <td>2.76</td>\n",
       "      <td>0.0</td>\n",
       "      <td>0.3</td>\n",
       "      <td>16.56</td>\n",
       "      <td>2.5</td>\n",
       "      <td>0.00</td>\n",
       "    </tr>\n",
       "    <tr>\n",
       "      <th>903727</th>\n",
       "      <td>2</td>\n",
       "      <td>2022-09-09 21:21:02</td>\n",
       "      <td>2022-09-09 21:29:52</td>\n",
       "      <td>1.0</td>\n",
       "      <td>1.89</td>\n",
       "      <td>1.0</td>\n",
       "      <td>N</td>\n",
       "      <td>263</td>\n",
       "      <td>162</td>\n",
       "      <td>1</td>\n",
       "      <td>8.5</td>\n",
       "      <td>0.5</td>\n",
       "      <td>0.5</td>\n",
       "      <td>1.00</td>\n",
       "      <td>0.0</td>\n",
       "      <td>0.3</td>\n",
       "      <td>13.30</td>\n",
       "      <td>2.5</td>\n",
       "      <td>0.00</td>\n",
       "    </tr>\n",
       "    <tr>\n",
       "      <th>730612</th>\n",
       "      <td>2</td>\n",
       "      <td>2022-09-08 14:19:05</td>\n",
       "      <td>2022-09-08 14:35:21</td>\n",
       "      <td>1.0</td>\n",
       "      <td>2.17</td>\n",
       "      <td>1.0</td>\n",
       "      <td>N</td>\n",
       "      <td>236</td>\n",
       "      <td>229</td>\n",
       "      <td>1</td>\n",
       "      <td>11.5</td>\n",
       "      <td>0.0</td>\n",
       "      <td>0.5</td>\n",
       "      <td>3.70</td>\n",
       "      <td>0.0</td>\n",
       "      <td>0.3</td>\n",
       "      <td>18.50</td>\n",
       "      <td>2.5</td>\n",
       "      <td>0.00</td>\n",
       "    </tr>\n",
       "  </tbody>\n",
       "</table>\n",
       "</div>"
      ],
      "text/plain": [
       "         VendorID tpep_pickup_datetime tpep_dropoff_datetime  passenger_count  \\\n",
       "1895567         1  2022-09-20 10:08:19   2022-09-20 10:32:24              1.0   \n",
       "2729396         2  2022-09-28 10:26:30   2022-09-28 11:06:53              1.0   \n",
       "2800893         2  2022-09-28 20:08:54   2022-09-28 20:20:53              1.0   \n",
       "903727          2  2022-09-09 21:21:02   2022-09-09 21:29:52              1.0   \n",
       "730612          2  2022-09-08 14:19:05   2022-09-08 14:35:21              1.0   \n",
       "\n",
       "         trip_distance  RatecodeID store_and_fwd_flag  PULocationID  \\\n",
       "1895567           3.30        99.0                  N            25   \n",
       "2729396          11.78         1.0                  N           132   \n",
       "2800893           1.96         1.0                  N           161   \n",
       "903727            1.89         1.0                  N           263   \n",
       "730612            2.17         1.0                  N           236   \n",
       "\n",
       "         DOLocationID  payment_type  fare_amount  extra  mta_tax  tip_amount  \\\n",
       "1895567            62             1         17.2    0.0      0.5        0.00   \n",
       "2729396            17             1         38.5    0.0      0.5        7.86   \n",
       "2800893            68             1          9.5    1.0      0.5        2.76   \n",
       "903727            162             1          8.5    0.5      0.5        1.00   \n",
       "730612            229             1         11.5    0.0      0.5        3.70   \n",
       "\n",
       "         tolls_amount  improvement_surcharge  total_amount  \\\n",
       "1895567           0.0                    0.3         18.00   \n",
       "2729396           0.0                    0.3         48.41   \n",
       "2800893           0.0                    0.3         16.56   \n",
       "903727            0.0                    0.3         13.30   \n",
       "730612            0.0                    0.3         18.50   \n",
       "\n",
       "         congestion_surcharge  airport_fee  \n",
       "1895567                   0.0         0.00  \n",
       "2729396                   0.0         1.25  \n",
       "2800893                   2.5         0.00  \n",
       "903727                    2.5         0.00  \n",
       "730612                    2.5         0.00  "
      ]
     },
     "execution_count": 5,
     "metadata": {},
     "output_type": "execute_result"
    }
   ],
   "source": [
    "df.head()"
   ]
  },
  {
   "cell_type": "code",
   "execution_count": 6,
   "id": "dc419d82",
   "metadata": {},
   "outputs": [
    {
     "data": {
      "text/plain": [
       "(100000, 19)"
      ]
     },
     "execution_count": 6,
     "metadata": {},
     "output_type": "execute_result"
    }
   ],
   "source": [
    "df.shape"
   ]
  },
  {
   "cell_type": "markdown",
   "id": "919bfb8a",
   "metadata": {},
   "source": [
    "## Checking null values . "
   ]
  },
  {
   "cell_type": "code",
   "execution_count": 7,
   "id": "75784b9b",
   "metadata": {},
   "outputs": [
    {
     "data": {
      "text/plain": [
       "VendorID                    0\n",
       "tpep_pickup_datetime        0\n",
       "tpep_dropoff_datetime       0\n",
       "passenger_count          3566\n",
       "trip_distance               0\n",
       "RatecodeID               3566\n",
       "store_and_fwd_flag       3566\n",
       "PULocationID                0\n",
       "DOLocationID                0\n",
       "payment_type                0\n",
       "fare_amount                 0\n",
       "extra                       0\n",
       "mta_tax                     0\n",
       "tip_amount                  0\n",
       "tolls_amount                0\n",
       "improvement_surcharge       0\n",
       "total_amount                0\n",
       "congestion_surcharge     3566\n",
       "airport_fee              3566\n",
       "dtype: int64"
      ]
     },
     "execution_count": 7,
     "metadata": {},
     "output_type": "execute_result"
    }
   ],
   "source": [
    "df.isnull().sum()"
   ]
  },
  {
   "cell_type": "code",
   "execution_count": 8,
   "id": "35750c0f",
   "metadata": {},
   "outputs": [
    {
     "name": "stdout",
     "output_type": "stream",
     "text": [
      "VendorID                 0.000\n",
      "tpep_pickup_datetime     0.000\n",
      "tpep_dropoff_datetime    0.000\n",
      "passenger_count          3.566\n",
      "trip_distance            0.000\n",
      "RatecodeID               3.566\n",
      "store_and_fwd_flag       3.566\n",
      "PULocationID             0.000\n",
      "DOLocationID             0.000\n",
      "payment_type             0.000\n",
      "fare_amount              0.000\n",
      "extra                    0.000\n",
      "mta_tax                  0.000\n",
      "tip_amount               0.000\n",
      "tolls_amount             0.000\n",
      "improvement_surcharge    0.000\n",
      "total_amount             0.000\n",
      "congestion_surcharge     3.566\n",
      "airport_fee              3.566\n",
      "dtype: float64\n"
     ]
    }
   ],
   "source": [
    "null_percentages = df.isnull().sum() / len(df) * 100\n",
    "print(null_percentages)"
   ]
  },
  {
   "cell_type": "markdown",
   "id": "587a4580",
   "metadata": {},
   "source": [
    "### We have only 3% null values so can drop also."
   ]
  },
  {
   "cell_type": "code",
   "execution_count": 9,
   "id": "0ba64e33",
   "metadata": {},
   "outputs": [],
   "source": [
    "df.dropna(inplace=True)"
   ]
  },
  {
   "cell_type": "code",
   "execution_count": 10,
   "id": "3ed2ef41",
   "metadata": {},
   "outputs": [
    {
     "name": "stdout",
     "output_type": "stream",
     "text": [
      "VendorID                 0.0\n",
      "tpep_pickup_datetime     0.0\n",
      "tpep_dropoff_datetime    0.0\n",
      "passenger_count          0.0\n",
      "trip_distance            0.0\n",
      "RatecodeID               0.0\n",
      "store_and_fwd_flag       0.0\n",
      "PULocationID             0.0\n",
      "DOLocationID             0.0\n",
      "payment_type             0.0\n",
      "fare_amount              0.0\n",
      "extra                    0.0\n",
      "mta_tax                  0.0\n",
      "tip_amount               0.0\n",
      "tolls_amount             0.0\n",
      "improvement_surcharge    0.0\n",
      "total_amount             0.0\n",
      "congestion_surcharge     0.0\n",
      "airport_fee              0.0\n",
      "dtype: float64\n"
     ]
    }
   ],
   "source": [
    "null_percentages = df.isnull().sum() / len(df) * 100\n",
    "print(null_percentages)"
   ]
  },
  {
   "cell_type": "markdown",
   "id": "bfd27aed",
   "metadata": {},
   "source": [
    "### Now we dont have any null values  "
   ]
  },
  {
   "cell_type": "markdown",
   "id": "e5bdb349",
   "metadata": {},
   "source": [
    "# EDA"
   ]
  },
  {
   "cell_type": "markdown",
   "id": "5b14ab51",
   "metadata": {},
   "source": [
    "### Checking data types "
   ]
  },
  {
   "cell_type": "code",
   "execution_count": 11,
   "id": "68c2a036",
   "metadata": {},
   "outputs": [
    {
     "data": {
      "text/plain": [
       "VendorID                          int64\n",
       "tpep_pickup_datetime     datetime64[ns]\n",
       "tpep_dropoff_datetime    datetime64[ns]\n",
       "passenger_count                 float64\n",
       "trip_distance                   float64\n",
       "RatecodeID                      float64\n",
       "store_and_fwd_flag               object\n",
       "PULocationID                      int64\n",
       "DOLocationID                      int64\n",
       "payment_type                      int64\n",
       "fare_amount                     float64\n",
       "extra                           float64\n",
       "mta_tax                         float64\n",
       "tip_amount                      float64\n",
       "tolls_amount                    float64\n",
       "improvement_surcharge           float64\n",
       "total_amount                    float64\n",
       "congestion_surcharge            float64\n",
       "airport_fee                     float64\n",
       "dtype: object"
      ]
     },
     "execution_count": 11,
     "metadata": {},
     "output_type": "execute_result"
    }
   ],
   "source": [
    "df.dtypes"
   ]
  },
  {
   "cell_type": "markdown",
   "id": "f9f67ea2",
   "metadata": {},
   "source": [
    "## We can extract the types of data "
   ]
  },
  {
   "cell_type": "code",
   "execution_count": 12,
   "id": "e8f39c25",
   "metadata": {},
   "outputs": [
    {
     "name": "stdout",
     "output_type": "stream",
     "text": [
      "Object Columns\n",
      "\n",
      "['store_and_fwd_flag']\n",
      "************************************************************\n",
      "Int Columns\n",
      "\n",
      "['VendorID', 'tpep_pickup_datetime', 'tpep_dropoff_datetime', 'passenger_count', 'trip_distance', 'RatecodeID', 'PULocationID', 'DOLocationID', 'payment_type', 'fare_amount', 'extra', 'mta_tax', 'tip_amount', 'tolls_amount', 'improvement_surcharge', 'total_amount', 'congestion_surcharge', 'airport_fee']\n"
     ]
    }
   ],
   "source": [
    "obj = []\n",
    "num=[]\n",
    "\n",
    "col= df.columns\n",
    "\n",
    "for i in col:\n",
    "    if df[i].dtype=='object':\n",
    "        obj.append(i)\n",
    "    else:\n",
    "            num.append(i)\n",
    "print('Object Columns\\n')            \n",
    "print(obj) \n",
    "print('*'*60)\n",
    "print('Int Columns\\n')\n",
    "print(num)"
   ]
  },
  {
   "cell_type": "code",
   "execution_count": 13,
   "id": "f3005f95",
   "metadata": {},
   "outputs": [],
   "source": [
    "def object_cat(data,x):              \n",
    "    value=data[x].value_counts()\n",
    "    unique= data[x].unique()\n",
    "    print('Values:\\n',value,'\\n')\n",
    "    print('Unique:\\n',unique)\n",
    "    \n",
    "    sns.countplot(data=data,x=x)\n",
    "    plt.show()"
   ]
  },
  {
   "cell_type": "code",
   "execution_count": 14,
   "id": "ca818065",
   "metadata": {},
   "outputs": [
    {
     "name": "stdout",
     "output_type": "stream",
     "text": [
      "Values:\n",
      " N    95598\n",
      "Y      836\n",
      "Name: store_and_fwd_flag, dtype: int64 \n",
      "\n",
      "Unique:\n",
      " ['N' 'Y']\n"
     ]
    },
    {
     "data": {
      "image/png": "[encoded data removed]",
      "text/plain": [
       "<Figure size 640x480 with 1 Axes>"
      ]
     },
     "metadata": {},
     "output_type": "display_data"
    }
   ],
   "source": [
    "object_cat(data=df,x='store_and_fwd_flag')"
   ]
  },
  {
   "cell_type": "markdown",
   "id": "5f83f6d0",
   "metadata": {},
   "source": [
    "#### This flag indicates whether the trip record was held in vehicle memory before sending to the vendor, aka “store and forward,” because the vehicle did not have a connection to the server. Y= store and forward trip N= not a store and forward trip"
   ]
  },
  {
   "cell_type": "code",
   "execution_count": 15,
   "id": "1b51524e",
   "metadata": {},
   "outputs": [
    {
     "name": "stdout",
     "output_type": "stream",
     "text": [
      "Values:\n",
      " 2    68876\n",
      "1    27558\n",
      "Name: VendorID, dtype: int64 \n",
      "\n",
      "Unique:\n",
      " [1 2]\n"
     ]
    },
    {
     "data": {
      "image/png": "[encoded data removed]",
      "text/plain": [
       "<Figure size 640x480 with 1 Axes>"
      ]
     },
     "metadata": {},
     "output_type": "display_data"
    }
   ],
   "source": [
    "object_cat(data = df, x='VendorID')"
   ]
  },
  {
   "cell_type": "markdown",
   "id": "2c4459f8",
   "metadata": {},
   "source": [
    "#### A code indicating the TPEP provider that provided the record."
   ]
  },
  {
   "cell_type": "code",
   "execution_count": 16,
   "id": "26d259e4",
   "metadata": {},
   "outputs": [
    {
     "name": "stdout",
     "output_type": "stream",
     "text": [
      "Values:\n",
      " 1.0     90262\n",
      "2.0      4389\n",
      "5.0       969\n",
      "99.0      379\n",
      "3.0       299\n",
      "4.0       136\n",
      "Name: RatecodeID, dtype: int64 \n",
      "\n",
      "Unique:\n",
      " [99.  1.  3.  2.  5.  4.]\n"
     ]
    },
    {
     "data": {
      "image/png": "[encoded data removed]",
      "text/plain": [
       "<Figure size 640x480 with 1 Axes>"
      ]
     },
     "metadata": {},
     "output_type": "display_data"
    }
   ],
   "source": [
    "object_cat(data= df,x='RatecodeID')"
   ]
  },
  {
   "cell_type": "code",
   "execution_count": 17,
   "id": "a326d713",
   "metadata": {},
   "outputs": [],
   "source": [
    "df[\"RatecodeID\"]=df[\"RatecodeID\"].map({1:\"Standard_rate\", 2:\"JFK\", 3:\"Newark\", 4:\"Nassau\", \n",
    "                                       5:\"Negotiated_fare\",6:\"group_ride\"})"
   ]
  },
  {
   "cell_type": "markdown",
   "id": "dfea2d33",
   "metadata": {},
   "source": [
    "#### 1= Standard rate 2=JFK 3=Newark 4=Nassau or Westchester 5=Negotiated fare 6=Group ride"
   ]
  },
  {
   "cell_type": "code",
   "execution_count": 18,
   "id": "4759a0d1",
   "metadata": {},
   "outputs": [],
   "source": [
    "df['VendorID'] = df['VendorID'].map({1:'CMT', 2:'Verifone'})"
   ]
  },
  {
   "cell_type": "markdown",
   "id": "e7a60a81",
   "metadata": {},
   "source": [
    "#### Here CMT : Creative Mobile Technologies"
   ]
  },
  {
   "cell_type": "code",
   "execution_count": 19,
   "id": "fc6738ec",
   "metadata": {},
   "outputs": [
    {
     "name": "stdout",
     "output_type": "stream",
     "text": [
      "Values:\n",
      " Verifone    68876\n",
      "CMT         27558\n",
      "Name: VendorID, dtype: int64 \n",
      "\n",
      "Unique:\n",
      " ['CMT' 'Verifone']\n"
     ]
    },
    {
     "data": {
      "image/png": "[encoded data removed]",
      "text/plain": [
       "<Figure size 640x480 with 1 Axes>"
      ]
     },
     "metadata": {},
     "output_type": "display_data"
    }
   ],
   "source": [
    "object_cat(data= df, x='VendorID')"
   ]
  },
  {
   "cell_type": "code",
   "execution_count": 20,
   "id": "a911f3c2",
   "metadata": {},
   "outputs": [
    {
     "name": "stdout",
     "output_type": "stream",
     "text": [
      "Values:\n",
      " 1.0    71766\n",
      "2.0    14827\n",
      "3.0     3768\n",
      "0.0     1848\n",
      "5.0     1572\n",
      "4.0     1570\n",
      "6.0     1080\n",
      "7.0        2\n",
      "9.0        1\n",
      "Name: passenger_count, dtype: int64 \n",
      "\n",
      "Unique:\n",
      " [1. 2. 3. 0. 5. 6. 4. 7. 9.]\n"
     ]
    },
    {
     "data": {
      "image/png": "[encoded data removed]",
      "text/plain": [
       "<Figure size 640x480 with 1 Axes>"
      ]
     },
     "metadata": {},
     "output_type": "display_data"
    }
   ],
   "source": [
    "object_cat(data=df,x='passenger_count')"
   ]
  },
  {
   "cell_type": "code",
   "execution_count": 21,
   "id": "e5d7e7c1",
   "metadata": {},
   "outputs": [
    {
     "data": {
      "text/html": [
       "<div>\n",
       "<style scoped>\n",
       "    .dataframe tbody tr th:only-of-type {\n",
       "        vertical-align: middle;\n",
       "    }\n",
       "\n",
       "    .dataframe tbody tr th {\n",
       "        vertical-align: top;\n",
       "    }\n",
       "\n",
       "    .dataframe thead th {\n",
       "        text-align: right;\n",
       "    }\n",
       "</style>\n",
       "<table border=\"1\" class=\"dataframe\">\n",
       "  <thead>\n",
       "    <tr style=\"text-align: right;\">\n",
       "      <th></th>\n",
       "      <th>VendorID</th>\n",
       "      <th>tpep_pickup_datetime</th>\n",
       "      <th>tpep_dropoff_datetime</th>\n",
       "      <th>passenger_count</th>\n",
       "      <th>trip_distance</th>\n",
       "      <th>RatecodeID</th>\n",
       "      <th>store_and_fwd_flag</th>\n",
       "      <th>PULocationID</th>\n",
       "      <th>DOLocationID</th>\n",
       "      <th>payment_type</th>\n",
       "      <th>fare_amount</th>\n",
       "      <th>extra</th>\n",
       "      <th>mta_tax</th>\n",
       "      <th>tip_amount</th>\n",
       "      <th>tolls_amount</th>\n",
       "      <th>improvement_surcharge</th>\n",
       "      <th>total_amount</th>\n",
       "      <th>congestion_surcharge</th>\n",
       "      <th>airport_fee</th>\n",
       "    </tr>\n",
       "  </thead>\n",
       "  <tbody>\n",
       "    <tr>\n",
       "      <th>2991738</th>\n",
       "      <td>CMT</td>\n",
       "      <td>2022-09-30 13:39:59</td>\n",
       "      <td>2022-09-30 13:51:00</td>\n",
       "      <td>0.0</td>\n",
       "      <td>1.2</td>\n",
       "      <td>Standard_rate</td>\n",
       "      <td>N</td>\n",
       "      <td>237</td>\n",
       "      <td>142</td>\n",
       "      <td>2</td>\n",
       "      <td>9.0</td>\n",
       "      <td>2.50</td>\n",
       "      <td>0.5</td>\n",
       "      <td>0.00</td>\n",
       "      <td>0.00</td>\n",
       "      <td>0.3</td>\n",
       "      <td>12.30</td>\n",
       "      <td>2.5</td>\n",
       "      <td>0.00</td>\n",
       "    </tr>\n",
       "    <tr>\n",
       "      <th>2314509</th>\n",
       "      <td>CMT</td>\n",
       "      <td>2022-09-24 08:52:36</td>\n",
       "      <td>2022-09-24 08:57:52</td>\n",
       "      <td>0.0</td>\n",
       "      <td>1.2</td>\n",
       "      <td>Standard_rate</td>\n",
       "      <td>N</td>\n",
       "      <td>141</td>\n",
       "      <td>229</td>\n",
       "      <td>1</td>\n",
       "      <td>6.0</td>\n",
       "      <td>2.50</td>\n",
       "      <td>0.5</td>\n",
       "      <td>1.85</td>\n",
       "      <td>0.00</td>\n",
       "      <td>0.3</td>\n",
       "      <td>11.15</td>\n",
       "      <td>2.5</td>\n",
       "      <td>0.00</td>\n",
       "    </tr>\n",
       "    <tr>\n",
       "      <th>2361223</th>\n",
       "      <td>CMT</td>\n",
       "      <td>2022-09-24 17:14:52</td>\n",
       "      <td>2022-09-24 17:30:06</td>\n",
       "      <td>0.0</td>\n",
       "      <td>1.6</td>\n",
       "      <td>Standard_rate</td>\n",
       "      <td>N</td>\n",
       "      <td>161</td>\n",
       "      <td>163</td>\n",
       "      <td>3</td>\n",
       "      <td>11.0</td>\n",
       "      <td>2.50</td>\n",
       "      <td>0.5</td>\n",
       "      <td>0.00</td>\n",
       "      <td>0.00</td>\n",
       "      <td>0.3</td>\n",
       "      <td>14.30</td>\n",
       "      <td>2.5</td>\n",
       "      <td>0.00</td>\n",
       "    </tr>\n",
       "    <tr>\n",
       "      <th>2687057</th>\n",
       "      <td>CMT</td>\n",
       "      <td>2022-09-27 20:17:38</td>\n",
       "      <td>2022-09-27 20:36:53</td>\n",
       "      <td>0.0</td>\n",
       "      <td>8.9</td>\n",
       "      <td>Standard_rate</td>\n",
       "      <td>N</td>\n",
       "      <td>138</td>\n",
       "      <td>186</td>\n",
       "      <td>1</td>\n",
       "      <td>26.0</td>\n",
       "      <td>4.25</td>\n",
       "      <td>0.5</td>\n",
       "      <td>5.00</td>\n",
       "      <td>6.55</td>\n",
       "      <td>0.3</td>\n",
       "      <td>42.60</td>\n",
       "      <td>2.5</td>\n",
       "      <td>1.25</td>\n",
       "    </tr>\n",
       "    <tr>\n",
       "      <th>387955</th>\n",
       "      <td>CMT</td>\n",
       "      <td>2022-09-05 00:21:13</td>\n",
       "      <td>2022-09-05 00:30:42</td>\n",
       "      <td>0.0</td>\n",
       "      <td>2.1</td>\n",
       "      <td>Standard_rate</td>\n",
       "      <td>N</td>\n",
       "      <td>249</td>\n",
       "      <td>137</td>\n",
       "      <td>2</td>\n",
       "      <td>8.5</td>\n",
       "      <td>3.00</td>\n",
       "      <td>0.5</td>\n",
       "      <td>0.00</td>\n",
       "      <td>0.00</td>\n",
       "      <td>0.3</td>\n",
       "      <td>12.30</td>\n",
       "      <td>2.5</td>\n",
       "      <td>0.00</td>\n",
       "    </tr>\n",
       "    <tr>\n",
       "      <th>...</th>\n",
       "      <td>...</td>\n",
       "      <td>...</td>\n",
       "      <td>...</td>\n",
       "      <td>...</td>\n",
       "      <td>...</td>\n",
       "      <td>...</td>\n",
       "      <td>...</td>\n",
       "      <td>...</td>\n",
       "      <td>...</td>\n",
       "      <td>...</td>\n",
       "      <td>...</td>\n",
       "      <td>...</td>\n",
       "      <td>...</td>\n",
       "      <td>...</td>\n",
       "      <td>...</td>\n",
       "      <td>...</td>\n",
       "      <td>...</td>\n",
       "      <td>...</td>\n",
       "      <td>...</td>\n",
       "    </tr>\n",
       "    <tr>\n",
       "      <th>2374016</th>\n",
       "      <td>CMT</td>\n",
       "      <td>2022-09-24 18:50:54</td>\n",
       "      <td>2022-09-24 19:18:24</td>\n",
       "      <td>0.0</td>\n",
       "      <td>3.5</td>\n",
       "      <td>Standard_rate</td>\n",
       "      <td>N</td>\n",
       "      <td>239</td>\n",
       "      <td>74</td>\n",
       "      <td>2</td>\n",
       "      <td>19.5</td>\n",
       "      <td>2.50</td>\n",
       "      <td>0.5</td>\n",
       "      <td>0.00</td>\n",
       "      <td>0.00</td>\n",
       "      <td>0.3</td>\n",
       "      <td>22.80</td>\n",
       "      <td>2.5</td>\n",
       "      <td>0.00</td>\n",
       "    </tr>\n",
       "    <tr>\n",
       "      <th>2355073</th>\n",
       "      <td>CMT</td>\n",
       "      <td>2022-09-24 16:05:12</td>\n",
       "      <td>2022-09-24 16:21:48</td>\n",
       "      <td>0.0</td>\n",
       "      <td>1.2</td>\n",
       "      <td>Standard_rate</td>\n",
       "      <td>N</td>\n",
       "      <td>48</td>\n",
       "      <td>163</td>\n",
       "      <td>2</td>\n",
       "      <td>11.0</td>\n",
       "      <td>2.50</td>\n",
       "      <td>0.5</td>\n",
       "      <td>0.00</td>\n",
       "      <td>0.00</td>\n",
       "      <td>0.3</td>\n",
       "      <td>14.30</td>\n",
       "      <td>2.5</td>\n",
       "      <td>0.00</td>\n",
       "    </tr>\n",
       "    <tr>\n",
       "      <th>3046789</th>\n",
       "      <td>CMT</td>\n",
       "      <td>2022-09-30 20:12:25</td>\n",
       "      <td>2022-09-30 20:25:58</td>\n",
       "      <td>0.0</td>\n",
       "      <td>3.1</td>\n",
       "      <td>Standard_rate</td>\n",
       "      <td>N</td>\n",
       "      <td>239</td>\n",
       "      <td>152</td>\n",
       "      <td>1</td>\n",
       "      <td>12.0</td>\n",
       "      <td>3.00</td>\n",
       "      <td>0.5</td>\n",
       "      <td>3.15</td>\n",
       "      <td>0.00</td>\n",
       "      <td>0.3</td>\n",
       "      <td>18.95</td>\n",
       "      <td>2.5</td>\n",
       "      <td>0.00</td>\n",
       "    </tr>\n",
       "    <tr>\n",
       "      <th>842007</th>\n",
       "      <td>CMT</td>\n",
       "      <td>2022-09-09 13:38:44</td>\n",
       "      <td>2022-09-09 14:06:04</td>\n",
       "      <td>0.0</td>\n",
       "      <td>3.7</td>\n",
       "      <td>Standard_rate</td>\n",
       "      <td>N</td>\n",
       "      <td>161</td>\n",
       "      <td>45</td>\n",
       "      <td>1</td>\n",
       "      <td>18.0</td>\n",
       "      <td>2.50</td>\n",
       "      <td>0.5</td>\n",
       "      <td>2.00</td>\n",
       "      <td>0.00</td>\n",
       "      <td>0.3</td>\n",
       "      <td>23.30</td>\n",
       "      <td>2.5</td>\n",
       "      <td>0.00</td>\n",
       "    </tr>\n",
       "    <tr>\n",
       "      <th>2146076</th>\n",
       "      <td>CMT</td>\n",
       "      <td>2022-09-22 19:20:16</td>\n",
       "      <td>2022-09-22 19:42:32</td>\n",
       "      <td>0.0</td>\n",
       "      <td>4.0</td>\n",
       "      <td>Standard_rate</td>\n",
       "      <td>N</td>\n",
       "      <td>249</td>\n",
       "      <td>143</td>\n",
       "      <td>1</td>\n",
       "      <td>16.0</td>\n",
       "      <td>3.50</td>\n",
       "      <td>0.5</td>\n",
       "      <td>1.00</td>\n",
       "      <td>0.00</td>\n",
       "      <td>0.3</td>\n",
       "      <td>21.30</td>\n",
       "      <td>2.5</td>\n",
       "      <td>0.00</td>\n",
       "    </tr>\n",
       "  </tbody>\n",
       "</table>\n",
       "<p>1848 rows × 19 columns</p>\n",
       "</div>"
      ],
      "text/plain": [
       "        VendorID tpep_pickup_datetime tpep_dropoff_datetime  passenger_count  \\\n",
       "2991738      CMT  2022-09-30 13:39:59   2022-09-30 13:51:00              0.0   \n",
       "2314509      CMT  2022-09-24 08:52:36   2022-09-24 08:57:52              0.0   \n",
       "2361223      CMT  2022-09-24 17:14:52   2022-09-24 17:30:06              0.0   \n",
       "2687057      CMT  2022-09-27 20:17:38   2022-09-27 20:36:53              0.0   \n",
       "387955       CMT  2022-09-05 00:21:13   2022-09-05 00:30:42              0.0   \n",
       "...          ...                  ...                   ...              ...   \n",
       "2374016      CMT  2022-09-24 18:50:54   2022-09-24 19:18:24              0.0   \n",
       "2355073      CMT  2022-09-24 16:05:12   2022-09-24 16:21:48              0.0   \n",
       "3046789      CMT  2022-09-30 20:12:25   2022-09-30 20:25:58              0.0   \n",
       "842007       CMT  2022-09-09 13:38:44   2022-09-09 14:06:04              0.0   \n",
       "2146076      CMT  2022-09-22 19:20:16   2022-09-22 19:42:32              0.0   \n",
       "\n",
       "         trip_distance     RatecodeID store_and_fwd_flag  PULocationID  \\\n",
       "2991738            1.2  Standard_rate                  N           237   \n",
       "2314509            1.2  Standard_rate                  N           141   \n",
       "2361223            1.6  Standard_rate                  N           161   \n",
       "2687057            8.9  Standard_rate                  N           138   \n",
       "387955             2.1  Standard_rate                  N           249   \n",
       "...                ...            ...                ...           ...   \n",
       "2374016            3.5  Standard_rate                  N           239   \n",
       "2355073            1.2  Standard_rate                  N            48   \n",
       "3046789            3.1  Standard_rate                  N           239   \n",
       "842007             3.7  Standard_rate                  N           161   \n",
       "2146076            4.0  Standard_rate                  N           249   \n",
       "\n",
       "         DOLocationID  payment_type  fare_amount  extra  mta_tax  tip_amount  \\\n",
       "2991738           142             2          9.0   2.50      0.5        0.00   \n",
       "2314509           229             1          6.0   2.50      0.5        1.85   \n",
       "2361223           163             3         11.0   2.50      0.5        0.00   \n",
       "2687057           186             1         26.0   4.25      0.5        5.00   \n",
       "387955            137             2          8.5   3.00      0.5        0.00   \n",
       "...               ...           ...          ...    ...      ...         ...   \n",
       "2374016            74             2         19.5   2.50      0.5        0.00   \n",
       "2355073           163             2         11.0   2.50      0.5        0.00   \n",
       "3046789           152             1         12.0   3.00      0.5        3.15   \n",
       "842007             45             1         18.0   2.50      0.5        2.00   \n",
       "2146076           143             1         16.0   3.50      0.5        1.00   \n",
       "\n",
       "         tolls_amount  improvement_surcharge  total_amount  \\\n",
       "2991738          0.00                    0.3         12.30   \n",
       "2314509          0.00                    0.3         11.15   \n",
       "2361223          0.00                    0.3         14.30   \n",
       "2687057          6.55                    0.3         42.60   \n",
       "387955           0.00                    0.3         12.30   \n",
       "...               ...                    ...           ...   \n",
       "2374016          0.00                    0.3         22.80   \n",
       "2355073          0.00                    0.3         14.30   \n",
       "3046789          0.00                    0.3         18.95   \n",
       "842007           0.00                    0.3         23.30   \n",
       "2146076          0.00                    0.3         21.30   \n",
       "\n",
       "         congestion_surcharge  airport_fee  \n",
       "2991738                   2.5         0.00  \n",
       "2314509                   2.5         0.00  \n",
       "2361223                   2.5         0.00  \n",
       "2687057                   2.5         1.25  \n",
       "387955                    2.5         0.00  \n",
       "...                       ...          ...  \n",
       "2374016                   2.5         0.00  \n",
       "2355073                   2.5         0.00  \n",
       "3046789                   2.5         0.00  \n",
       "842007                    2.5         0.00  \n",
       "2146076                   2.5         0.00  \n",
       "\n",
       "[1848 rows x 19 columns]"
      ]
     },
     "execution_count": 21,
     "metadata": {},
     "output_type": "execute_result"
    }
   ],
   "source": [
    "df[df.passenger_count==0.0]"
   ]
  },
  {
   "cell_type": "markdown",
   "id": "c87d0667",
   "metadata": {},
   "source": [
    "#### The number of passengers in the vehicle."
   ]
  },
  {
   "cell_type": "code",
   "execution_count": 22,
   "id": "f9231d92",
   "metadata": {},
   "outputs": [],
   "source": [
    " def univariate_num(data,x):\n",
    "    missing=data[x].isnull().sum()\n",
    "    min1=round(data[x].min(), 2)\n",
    "    max1=round(data[x].max(), 2)\n",
    "    mean=round(data[x].mean(), 2)\n",
    "    var=round(data[x].var(), 2)\n",
    "    std=round(data[x].std(),2)\n",
    "    range1=round(max1-min1, 2)\n",
    "    q1=round(data[x].quantile(.25), 2)\n",
    "    q2=round(data[x].quantile(.5),2)\n",
    "    q3=round(data[x].quantile(.75), 2)\n",
    "    skew=round(data[x].skew(), 2)\n",
    "    kurt=round(data[x].kurt(), 2)\n",
    "    myvalue={\"missing\":missing, \"min\":min1, \"max\":max1, \"mean\":mean,\n",
    "             \"var\":var,\"std\":std, \"range\":range1,\"q1\":q1, \"q2\":q2,\"q3\":q3,\n",
    "            \"skewness\":skew, \"kurtosis\":kurt}\n",
    "    sns.boxplot(data=data, y=data[x])\n",
    "    plt.show()\n",
    "    return myvalue"
   ]
  },
  {
   "cell_type": "code",
   "execution_count": 23,
   "id": "828e70a9",
   "metadata": {},
   "outputs": [
    {
     "data": {
      "image/png": "[encoded data removed]",
      "text/plain": [
       "<Figure size 640x480 with 1 Axes>"
      ]
     },
     "metadata": {},
     "output_type": "display_data"
    },
    {
     "data": {
      "text/plain": [
       "{'missing': 0,\n",
       " 'min': 0.0,\n",
       " 'max': 9.0,\n",
       " 'mean': 1.38,\n",
       " 'var': 0.87,\n",
       " 'std': 0.93,\n",
       " 'range': 9.0,\n",
       " 'q1': 1.0,\n",
       " 'q2': 1.0,\n",
       " 'q3': 1.0,\n",
       " 'skewness': 2.81,\n",
       " 'kurtosis': 8.95}"
      ]
     },
     "execution_count": 23,
     "metadata": {},
     "output_type": "execute_result"
    }
   ],
   "source": [
    "univariate_num(data = df , x= 'passenger_count')"
   ]
  },
  {
   "cell_type": "markdown",
   "id": "c86dce5e",
   "metadata": {},
   "source": [
    "### We can see there are aslo no passenger in our data so can create a new column as passenger_cat."
   ]
  },
  {
   "cell_type": "code",
   "execution_count": 24,
   "id": "b1be3bb1",
   "metadata": {},
   "outputs": [],
   "source": [
    "def passenger(x):\n",
    "    if x<=1:\n",
    "        return 'no_or_one_passenger'\n",
    "    elif x==2:\n",
    "        return 'Two_passeneger'\n",
    "    elif x>=3:\n",
    "        return 'More_than_two_passenger'"
   ]
  },
  {
   "cell_type": "code",
   "execution_count": 25,
   "id": "554cd12d",
   "metadata": {},
   "outputs": [],
   "source": [
    "df['passenger_cat'] = df['passenger_count'].apply(passenger)"
   ]
  },
  {
   "cell_type": "code",
   "execution_count": 26,
   "id": "90b525c1",
   "metadata": {},
   "outputs": [
    {
     "name": "stdout",
     "output_type": "stream",
     "text": [
      "Values:\n",
      " no_or_one_passenger        73614\n",
      "Two_passeneger             14827\n",
      "More_than_two_passenger     7993\n",
      "Name: passenger_cat, dtype: int64 \n",
      "\n",
      "Unique:\n",
      " ['no_or_one_passenger' 'Two_passeneger' 'More_than_two_passenger']\n"
     ]
    },
    {
     "data": {
      "image/png": "[encoded data removed]",
      "text/plain": [
       "<Figure size 640x480 with 1 Axes>"
      ]
     },
     "metadata": {},
     "output_type": "display_data"
    }
   ],
   "source": [
    "object_cat(data=df, x='passenger_cat')"
   ]
  },
  {
   "cell_type": "code",
   "execution_count": 27,
   "id": "0d11bac6",
   "metadata": {},
   "outputs": [
    {
     "data": {
      "image/png": "[encoded data removed]",
      "text/plain": [
       "<Figure size 640x480 with 1 Axes>"
      ]
     },
     "metadata": {},
     "output_type": "display_data"
    },
    {
     "data": {
      "text/plain": [
       "{'missing': 0,\n",
       " 'min': 0.0,\n",
       " 'max': 173.46,\n",
       " 'mean': 3.66,\n",
       " 'var': 22.04,\n",
       " 'std': 4.7,\n",
       " 'range': 173.46,\n",
       " 'q1': 1.11,\n",
       " 'q2': 1.9,\n",
       " 'q3': 3.7,\n",
       " 'skewness': 3.11,\n",
       " 'kurtosis': 26.65}"
      ]
     },
     "execution_count": 27,
     "metadata": {},
     "output_type": "execute_result"
    }
   ],
   "source": [
    "univariate_num(data = df, x='trip_distance')"
   ]
  },
  {
   "cell_type": "code",
   "execution_count": 28,
   "id": "dd2e431b",
   "metadata": {},
   "outputs": [
    {
     "data": {
      "text/html": [
       "<div>\n",
       "<style scoped>\n",
       "    .dataframe tbody tr th:only-of-type {\n",
       "        vertical-align: middle;\n",
       "    }\n",
       "\n",
       "    .dataframe tbody tr th {\n",
       "        vertical-align: top;\n",
       "    }\n",
       "\n",
       "    .dataframe thead th {\n",
       "        text-align: right;\n",
       "    }\n",
       "</style>\n",
       "<table border=\"1\" class=\"dataframe\">\n",
       "  <thead>\n",
       "    <tr style=\"text-align: right;\">\n",
       "      <th></th>\n",
       "      <th>VendorID</th>\n",
       "      <th>tpep_pickup_datetime</th>\n",
       "      <th>tpep_dropoff_datetime</th>\n",
       "      <th>passenger_count</th>\n",
       "      <th>trip_distance</th>\n",
       "      <th>RatecodeID</th>\n",
       "      <th>store_and_fwd_flag</th>\n",
       "      <th>PULocationID</th>\n",
       "      <th>DOLocationID</th>\n",
       "      <th>payment_type</th>\n",
       "      <th>fare_amount</th>\n",
       "      <th>extra</th>\n",
       "      <th>mta_tax</th>\n",
       "      <th>tip_amount</th>\n",
       "      <th>tolls_amount</th>\n",
       "      <th>improvement_surcharge</th>\n",
       "      <th>total_amount</th>\n",
       "      <th>congestion_surcharge</th>\n",
       "      <th>airport_fee</th>\n",
       "      <th>passenger_cat</th>\n",
       "    </tr>\n",
       "  </thead>\n",
       "  <tbody>\n",
       "  </tbody>\n",
       "</table>\n",
       "</div>"
      ],
      "text/plain": [
       "Empty DataFrame\n",
       "Columns: [VendorID, tpep_pickup_datetime, tpep_dropoff_datetime, passenger_count, trip_distance, RatecodeID, store_and_fwd_flag, PULocationID, DOLocationID, payment_type, fare_amount, extra, mta_tax, tip_amount, tolls_amount, improvement_surcharge, total_amount, congestion_surcharge, airport_fee, passenger_cat]\n",
       "Index: []"
      ]
     },
     "execution_count": 28,
     "metadata": {},
     "output_type": "execute_result"
    }
   ],
   "source": [
    "df[df['trip_distance']==164072.79]"
   ]
  },
  {
   "cell_type": "markdown",
   "id": "edec93ce",
   "metadata": {},
   "source": [
    "#### Here i can see there is a passenger who have trip_distance is 164072.79 km i think this is not possible because i seen the time of trip "
   ]
  },
  {
   "cell_type": "code",
   "execution_count": 29,
   "id": "8a19ade0",
   "metadata": {},
   "outputs": [
    {
     "name": "stdout",
     "output_type": "stream",
     "text": [
      "Values:\n",
      " 236    4018\n",
      "237    3971\n",
      "161    3504\n",
      "230    2908\n",
      "170    2747\n",
      "       ... \n",
      "5         1\n",
      "253       1\n",
      "206       1\n",
      "245       1\n",
      "176       1\n",
      "Name: DOLocationID, Length: 250, dtype: int64 \n",
      "\n",
      "Unique:\n",
      " [ 62  17  68 162 229 264 230   7 164  79  90 170 138 234 142 236 163 186\n",
      " 232  43 237 144  75 143 166 239 246 263 100 140  42 141  74  48 151 114\n",
      " 152 233 262 158 181 161  33 228  50 249 224 255 256 261   4 107 137 209\n",
      " 113  95 211 231  45 238 116 146  13 129 125  49 132  61 260 205 156  41\n",
      " 188  87  80  64  25 145 134 216  70  12  14 265 206 112 148 226  38  37\n",
      " 213  92 225  88  24  85  10  82 193   1  63 243 192 168  20  66 177 179\n",
      " 160 195 223 127 180 174  71  97  23 244  53  21  36 248 202 210  89   9\n",
      " 197 194  28 165 220 200 167 218  40  98 207 219  91 185 130 198 106  65\n",
      " 189  55 121 247  81 203 124 169  22  72  52 257 215  54 182 119 157 254\n",
      "  83 102 173  93 108 242  69 175  76 135  35  56 252  26 196 217 250 131\n",
      " 133 259 258  34 126  29 155  30  19  18 139 128 190  86  15  39  60  16\n",
      " 191 227 222 159  57  67  73 208 123 184  51  47 171 136 118 235  78  94\n",
      "  77  44  11  32 154 201 241 214 150 101  46  31 147 183 149  96   3 153\n",
      " 178 120 212 240 221   8 117 109   5 253 122   6  58  27 245 176]\n"
     ]
    },
    {
     "data": {
      "image/png": "[encoded data removed]",
      "text/plain": [
       "<Figure size 640x480 with 1 Axes>"
      ]
     },
     "metadata": {},
     "output_type": "display_data"
    }
   ],
   "source": [
    "object_cat(data= df, x='DOLocationID')"
   ]
  },
  {
   "cell_type": "code",
   "execution_count": 30,
   "id": "015d987b",
   "metadata": {},
   "outputs": [],
   "source": [
    "df[\"is_pu_do_location_same\"]=np.where(df[\"PULocationID\"]==df[\"DOLocationID\"],1,0)"
   ]
  },
  {
   "cell_type": "code",
   "execution_count": 31,
   "id": "05060da9",
   "metadata": {},
   "outputs": [],
   "source": [
    "df.drop(columns=[\"PULocationID\", \"DOLocationID\"], inplace=True)"
   ]
  },
  {
   "cell_type": "code",
   "execution_count": 32,
   "id": "03a39fb0",
   "metadata": {},
   "outputs": [
    {
     "name": "stdout",
     "output_type": "stream",
     "text": [
      "Values:\n",
      " 0    91383\n",
      "1     5051\n",
      "Name: is_pu_do_location_same, dtype: int64 \n",
      "\n",
      "Unique:\n",
      " [0 1]\n"
     ]
    },
    {
     "data": {
      "image/png": "[encoded data removed]",
      "text/plain": [
       "<Figure size 640x480 with 1 Axes>"
      ]
     },
     "metadata": {},
     "output_type": "display_data"
    }
   ],
   "source": [
    "object_cat(data = df, x='is_pu_do_location_same')"
   ]
  },
  {
   "cell_type": "markdown",
   "id": "7fa5e87f",
   "metadata": {},
   "source": [
    "### I can see 160192 records are on same loacation id "
   ]
  },
  {
   "cell_type": "code",
   "execution_count": 33,
   "id": "594da865",
   "metadata": {},
   "outputs": [
    {
     "name": "stdout",
     "output_type": "stream",
     "text": [
      "Values:\n",
      " 1    75909\n",
      "2    19270\n",
      "4      741\n",
      "3      514\n",
      "Name: payment_type, dtype: int64 \n",
      "\n",
      "Unique:\n",
      " [1 2 3 4]\n"
     ]
    },
    {
     "data": {
      "image/png": "[encoded data removed]",
      "text/plain": [
       "<Figure size 640x480 with 1 Axes>"
      ]
     },
     "metadata": {},
     "output_type": "display_data"
    }
   ],
   "source": [
    "object_cat(data = df, x='payment_type')"
   ]
  },
  {
   "cell_type": "code",
   "execution_count": 34,
   "id": "29f8fa44",
   "metadata": {},
   "outputs": [],
   "source": [
    "df[\"payment_type\"]=df[\"payment_type\"].replace({1:\"cc\", 2:\"cash\", \n",
    "                                               3:\"no_charge\",4:\"dispute\", \n",
    "                                               5:\"unknown\",6:\"voided_trip\"})"
   ]
  },
  {
   "cell_type": "code",
   "execution_count": 35,
   "id": "bfff9eb8",
   "metadata": {},
   "outputs": [
    {
     "name": "stdout",
     "output_type": "stream",
     "text": [
      "Values:\n",
      " cc           75909\n",
      "cash         19270\n",
      "dispute        741\n",
      "no_charge      514\n",
      "Name: payment_type, dtype: int64 \n",
      "\n",
      "Unique:\n",
      " ['cc' 'cash' 'no_charge' 'dispute']\n"
     ]
    },
    {
     "data": {
      "image/png": "[encoded data removed]",
      "text/plain": [
       "<Figure size 640x480 with 1 Axes>"
      ]
     },
     "metadata": {},
     "output_type": "display_data"
    }
   ],
   "source": [
    "object_cat(data= df, x='payment_type')"
   ]
  },
  {
   "cell_type": "markdown",
   "id": "e002c178",
   "metadata": {},
   "source": [
    "### 1= Credit card, 2= Cash, 3= No charge, 4= Dispute, 5= Unknown and 6= Voided trip"
   ]
  },
  {
   "cell_type": "code",
   "execution_count": 36,
   "id": "e75aa91a",
   "metadata": {},
   "outputs": [
    {
     "data": {
      "image/png": "[encoded data removed]",
      "text/plain": [
       "<Figure size 640x480 with 1 Axes>"
      ]
     },
     "metadata": {},
     "output_type": "display_data"
    },
    {
     "data": {
      "text/plain": [
       "{'missing': 0,\n",
       " 'min': -150.0,\n",
       " 'max': 187444.96,\n",
       " 'mean': 17.36,\n",
       " 'var': 364521.4,\n",
       " 'std': 603.76,\n",
       " 'range': 187594.96,\n",
       " 'q1': 7.0,\n",
       " 'q2': 10.5,\n",
       " 'q3': 17.2,\n",
       " 'skewness': 310.24,\n",
       " 'kurtosis': 96311.01}"
      ]
     },
     "execution_count": 36,
     "metadata": {},
     "output_type": "execute_result"
    }
   ],
   "source": [
    "univariate_num(data= df, x='fare_amount')"
   ]
  },
  {
   "cell_type": "code",
   "execution_count": 37,
   "id": "d5f28908",
   "metadata": {},
   "outputs": [
    {
     "data": {
      "text/html": [
       "<div>\n",
       "<style scoped>\n",
       "    .dataframe tbody tr th:only-of-type {\n",
       "        vertical-align: middle;\n",
       "    }\n",
       "\n",
       "    .dataframe tbody tr th {\n",
       "        vertical-align: top;\n",
       "    }\n",
       "\n",
       "    .dataframe thead th {\n",
       "        text-align: right;\n",
       "    }\n",
       "</style>\n",
       "<table border=\"1\" class=\"dataframe\">\n",
       "  <thead>\n",
       "    <tr style=\"text-align: right;\">\n",
       "      <th></th>\n",
       "      <th>VendorID</th>\n",
       "      <th>tpep_pickup_datetime</th>\n",
       "      <th>tpep_dropoff_datetime</th>\n",
       "      <th>passenger_count</th>\n",
       "      <th>trip_distance</th>\n",
       "      <th>RatecodeID</th>\n",
       "      <th>store_and_fwd_flag</th>\n",
       "      <th>payment_type</th>\n",
       "      <th>fare_amount</th>\n",
       "      <th>extra</th>\n",
       "      <th>mta_tax</th>\n",
       "      <th>tip_amount</th>\n",
       "      <th>tolls_amount</th>\n",
       "      <th>improvement_surcharge</th>\n",
       "      <th>total_amount</th>\n",
       "      <th>congestion_surcharge</th>\n",
       "      <th>airport_fee</th>\n",
       "      <th>passenger_cat</th>\n",
       "      <th>is_pu_do_location_same</th>\n",
       "    </tr>\n",
       "  </thead>\n",
       "  <tbody>\n",
       "    <tr>\n",
       "      <th>2367479</th>\n",
       "      <td>CMT</td>\n",
       "      <td>2022-09-24 17:49:31</td>\n",
       "      <td>2022-09-24 17:59:06</td>\n",
       "      <td>0.0</td>\n",
       "      <td>3.5</td>\n",
       "      <td>Standard_rate</td>\n",
       "      <td>N</td>\n",
       "      <td>dispute</td>\n",
       "      <td>187444.96</td>\n",
       "      <td>2.5</td>\n",
       "      <td>0.5</td>\n",
       "      <td>0.0</td>\n",
       "      <td>0.0</td>\n",
       "      <td>0.3</td>\n",
       "      <td>187448.26</td>\n",
       "      <td>2.5</td>\n",
       "      <td>0.0</td>\n",
       "      <td>no_or_one_passenger</td>\n",
       "      <td>0</td>\n",
       "    </tr>\n",
       "  </tbody>\n",
       "</table>\n",
       "</div>"
      ],
      "text/plain": [
       "        VendorID tpep_pickup_datetime tpep_dropoff_datetime  passenger_count  \\\n",
       "2367479      CMT  2022-09-24 17:49:31   2022-09-24 17:59:06              0.0   \n",
       "\n",
       "         trip_distance     RatecodeID store_and_fwd_flag payment_type  \\\n",
       "2367479            3.5  Standard_rate                  N      dispute   \n",
       "\n",
       "         fare_amount  extra  mta_tax  tip_amount  tolls_amount  \\\n",
       "2367479    187444.96    2.5      0.5         0.0           0.0   \n",
       "\n",
       "         improvement_surcharge  total_amount  congestion_surcharge  \\\n",
       "2367479                    0.3     187448.26                   2.5   \n",
       "\n",
       "         airport_fee        passenger_cat  is_pu_do_location_same  \n",
       "2367479          0.0  no_or_one_passenger                       0  "
      ]
     },
     "execution_count": 37,
     "metadata": {},
     "output_type": "execute_result"
    }
   ],
   "source": [
    "df[df['fare_amount']==187444.96]"
   ]
  },
  {
   "cell_type": "code",
   "execution_count": 38,
   "id": "fc6867a5",
   "metadata": {},
   "outputs": [
    {
     "data": {
      "text/plain": [
       "count     96434.000000\n",
       "mean         17.362405\n",
       "std         603.756073\n",
       "min        -150.000000\n",
       "1%            2.500000\n",
       "2%            3.500000\n",
       "3%            4.000000\n",
       "4%            4.500000\n",
       "5%            4.500000\n",
       "25%           7.000000\n",
       "50%          10.500000\n",
       "75%          17.200000\n",
       "90%          33.500000\n",
       "95%          52.000000\n",
       "96%          52.000000\n",
       "97%          52.000000\n",
       "98%          52.000000\n",
       "99%          63.000000\n",
       "max      187444.960000\n",
       "Name: fare_amount, dtype: float64"
      ]
     },
     "execution_count": 38,
     "metadata": {},
     "output_type": "execute_result"
    }
   ],
   "source": [
    "df.fare_amount.describe(percentiles=[.01,.02,.03,.04,.05,.25,.5,.75,.9,.95,.96,.97,.98,.99])"
   ]
  },
  {
   "cell_type": "code",
   "execution_count": 39,
   "id": "0dc0a66b",
   "metadata": {},
   "outputs": [
    {
     "data": {
      "text/plain": [
       "-0.5    183\n",
       "-1.0    111\n",
       "-4.5     16\n",
       "-2.0      1\n",
       "Name: extra, dtype: int64"
      ]
     },
     "execution_count": 39,
     "metadata": {},
     "output_type": "execute_result"
    }
   ],
   "source": [
    "df[df['extra']<0]['extra'].value_counts()"
   ]
  },
  {
   "cell_type": "markdown",
   "id": "14b4f60c",
   "metadata": {},
   "source": [
    "### Extra can't be -ve amount "
   ]
  },
  {
   "cell_type": "code",
   "execution_count": 40,
   "id": "cf1e257f",
   "metadata": {},
   "outputs": [],
   "source": [
    "df= df[df['extra']>=0]"
   ]
  },
  {
   "cell_type": "code",
   "execution_count": 41,
   "id": "76bbcd67",
   "metadata": {},
   "outputs": [
    {
     "name": "stdout",
     "output_type": "stream",
     "text": [
      "Values:\n",
      "  0.50    94537\n",
      " 0.00     1221\n",
      "-0.50      355\n",
      " 2.54        7\n",
      " 0.55        3\n",
      "Name: mta_tax, dtype: int64 \n",
      "\n",
      "Unique:\n",
      " [ 0.5   0.   -0.5   2.54  0.55]\n"
     ]
    },
    {
     "data": {
      "image/png": "[encoded data removed]",
      "text/plain": [
       "<Figure size 640x480 with 1 Axes>"
      ]
     },
     "metadata": {},
     "output_type": "display_data"
    }
   ],
   "source": [
    "object_cat(data= df, x='mta_tax')"
   ]
  },
  {
   "cell_type": "code",
   "execution_count": 42,
   "id": "50775f2b",
   "metadata": {},
   "outputs": [
    {
     "data": {
      "text/plain": [
       "(355, 19)"
      ]
     },
     "execution_count": 42,
     "metadata": {},
     "output_type": "execute_result"
    }
   ],
   "source": [
    "df[df['mta_tax']<0].shape"
   ]
  },
  {
   "cell_type": "markdown",
   "id": "e87cf3bc",
   "metadata": {},
   "source": [
    "### mta_tax cant be -ve"
   ]
  },
  {
   "cell_type": "code",
   "execution_count": 43,
   "id": "f1ec9554",
   "metadata": {},
   "outputs": [],
   "source": [
    "df=df[df['mta_tax']>=0]"
   ]
  },
  {
   "cell_type": "code",
   "execution_count": 44,
   "id": "6b529918",
   "metadata": {},
   "outputs": [
    {
     "name": "stdout",
     "output_type": "stream",
     "text": [
      "Values:\n",
      "  0.00    87247\n",
      " 1.25     8517\n",
      "-1.25        4\n",
      "Name: airport_fee, dtype: int64 \n",
      "\n",
      "Unique:\n",
      " [ 0.    1.25 -1.25]\n"
     ]
    },
    {
     "data": {
      "image/png": "[encoded data removed]",
      "text/plain": [
       "<Figure size 640x480 with 1 Axes>"
      ]
     },
     "metadata": {},
     "output_type": "display_data"
    }
   ],
   "source": [
    "object_cat(data= df, x='airport_fee')"
   ]
  },
  {
   "cell_type": "code",
   "execution_count": 45,
   "id": "851f4c87",
   "metadata": {},
   "outputs": [
    {
     "data": {
      "text/html": [
       "<div>\n",
       "<style scoped>\n",
       "    .dataframe tbody tr th:only-of-type {\n",
       "        vertical-align: middle;\n",
       "    }\n",
       "\n",
       "    .dataframe tbody tr th {\n",
       "        vertical-align: top;\n",
       "    }\n",
       "\n",
       "    .dataframe thead th {\n",
       "        text-align: right;\n",
       "    }\n",
       "</style>\n",
       "<table border=\"1\" class=\"dataframe\">\n",
       "  <thead>\n",
       "    <tr style=\"text-align: right;\">\n",
       "      <th></th>\n",
       "      <th>VendorID</th>\n",
       "      <th>tpep_pickup_datetime</th>\n",
       "      <th>tpep_dropoff_datetime</th>\n",
       "      <th>passenger_count</th>\n",
       "      <th>trip_distance</th>\n",
       "      <th>RatecodeID</th>\n",
       "      <th>store_and_fwd_flag</th>\n",
       "      <th>payment_type</th>\n",
       "      <th>fare_amount</th>\n",
       "      <th>extra</th>\n",
       "      <th>mta_tax</th>\n",
       "      <th>tip_amount</th>\n",
       "      <th>tolls_amount</th>\n",
       "      <th>improvement_surcharge</th>\n",
       "      <th>total_amount</th>\n",
       "      <th>congestion_surcharge</th>\n",
       "      <th>airport_fee</th>\n",
       "      <th>passenger_cat</th>\n",
       "      <th>is_pu_do_location_same</th>\n",
       "    </tr>\n",
       "  </thead>\n",
       "  <tbody>\n",
       "    <tr>\n",
       "      <th>2182923</th>\n",
       "      <td>Verifone</td>\n",
       "      <td>2022-09-23 00:43:52</td>\n",
       "      <td>2022-09-23 00:44:01</td>\n",
       "      <td>3.0</td>\n",
       "      <td>0.02</td>\n",
       "      <td>Negotiated_fare</td>\n",
       "      <td>N</td>\n",
       "      <td>cash</td>\n",
       "      <td>-0.75</td>\n",
       "      <td>0.0</td>\n",
       "      <td>0.0</td>\n",
       "      <td>0.0</td>\n",
       "      <td>0.00</td>\n",
       "      <td>-0.3</td>\n",
       "      <td>-2.30</td>\n",
       "      <td>0.0</td>\n",
       "      <td>-1.25</td>\n",
       "      <td>More_than_two_passenger</td>\n",
       "      <td>1</td>\n",
       "    </tr>\n",
       "    <tr>\n",
       "      <th>1737226</th>\n",
       "      <td>Verifone</td>\n",
       "      <td>2022-09-17 08:32:03</td>\n",
       "      <td>2022-09-17 08:32:10</td>\n",
       "      <td>1.0</td>\n",
       "      <td>0.00</td>\n",
       "      <td>Negotiated_fare</td>\n",
       "      <td>N</td>\n",
       "      <td>cash</td>\n",
       "      <td>-61.85</td>\n",
       "      <td>0.0</td>\n",
       "      <td>0.0</td>\n",
       "      <td>0.0</td>\n",
       "      <td>0.00</td>\n",
       "      <td>-0.3</td>\n",
       "      <td>-63.40</td>\n",
       "      <td>0.0</td>\n",
       "      <td>-1.25</td>\n",
       "      <td>no_or_one_passenger</td>\n",
       "      <td>1</td>\n",
       "    </tr>\n",
       "    <tr>\n",
       "      <th>162925</th>\n",
       "      <td>Verifone</td>\n",
       "      <td>2022-09-02 16:01:56</td>\n",
       "      <td>2022-09-02 16:02:26</td>\n",
       "      <td>1.0</td>\n",
       "      <td>0.00</td>\n",
       "      <td>Negotiated_fare</td>\n",
       "      <td>N</td>\n",
       "      <td>cash</td>\n",
       "      <td>-52.50</td>\n",
       "      <td>0.0</td>\n",
       "      <td>0.0</td>\n",
       "      <td>0.0</td>\n",
       "      <td>-6.55</td>\n",
       "      <td>-0.3</td>\n",
       "      <td>-63.10</td>\n",
       "      <td>-2.5</td>\n",
       "      <td>-1.25</td>\n",
       "      <td>no_or_one_passenger</td>\n",
       "      <td>1</td>\n",
       "    </tr>\n",
       "    <tr>\n",
       "      <th>468775</th>\n",
       "      <td>Verifone</td>\n",
       "      <td>2022-09-06 06:58:19</td>\n",
       "      <td>2022-09-06 07:03:33</td>\n",
       "      <td>2.0</td>\n",
       "      <td>1.49</td>\n",
       "      <td>Newark</td>\n",
       "      <td>N</td>\n",
       "      <td>dispute</td>\n",
       "      <td>-24.50</td>\n",
       "      <td>0.0</td>\n",
       "      <td>0.0</td>\n",
       "      <td>0.0</td>\n",
       "      <td>0.00</td>\n",
       "      <td>-0.3</td>\n",
       "      <td>-26.05</td>\n",
       "      <td>0.0</td>\n",
       "      <td>-1.25</td>\n",
       "      <td>Two_passeneger</td>\n",
       "      <td>1</td>\n",
       "    </tr>\n",
       "  </tbody>\n",
       "</table>\n",
       "</div>"
      ],
      "text/plain": [
       "         VendorID tpep_pickup_datetime tpep_dropoff_datetime  passenger_count  \\\n",
       "2182923  Verifone  2022-09-23 00:43:52   2022-09-23 00:44:01              3.0   \n",
       "1737226  Verifone  2022-09-17 08:32:03   2022-09-17 08:32:10              1.0   \n",
       "162925   Verifone  2022-09-02 16:01:56   2022-09-02 16:02:26              1.0   \n",
       "468775   Verifone  2022-09-06 06:58:19   2022-09-06 07:03:33              2.0   \n",
       "\n",
       "         trip_distance       RatecodeID store_and_fwd_flag payment_type  \\\n",
       "2182923           0.02  Negotiated_fare                  N         cash   \n",
       "1737226           0.00  Negotiated_fare                  N         cash   \n",
       "162925            0.00  Negotiated_fare                  N         cash   \n",
       "468775            1.49           Newark                  N      dispute   \n",
       "\n",
       "         fare_amount  extra  mta_tax  tip_amount  tolls_amount  \\\n",
       "2182923        -0.75    0.0      0.0         0.0          0.00   \n",
       "1737226       -61.85    0.0      0.0         0.0          0.00   \n",
       "162925        -52.50    0.0      0.0         0.0         -6.55   \n",
       "468775        -24.50    0.0      0.0         0.0          0.00   \n",
       "\n",
       "         improvement_surcharge  total_amount  congestion_surcharge  \\\n",
       "2182923                   -0.3         -2.30                   0.0   \n",
       "1737226                   -0.3        -63.40                   0.0   \n",
       "162925                    -0.3        -63.10                  -2.5   \n",
       "468775                    -0.3        -26.05                   0.0   \n",
       "\n",
       "         airport_fee            passenger_cat  is_pu_do_location_same  \n",
       "2182923        -1.25  More_than_two_passenger                       1  \n",
       "1737226        -1.25      no_or_one_passenger                       1  \n",
       "162925         -1.25      no_or_one_passenger                       1  \n",
       "468775         -1.25           Two_passeneger                       1  "
      ]
     },
     "execution_count": 45,
     "metadata": {},
     "output_type": "execute_result"
    }
   ],
   "source": [
    "df[df['airport_fee']<0]"
   ]
  },
  {
   "cell_type": "code",
   "execution_count": 46,
   "id": "ffb1a559",
   "metadata": {},
   "outputs": [
    {
     "data": {
      "text/plain": [
       "count    95768.000000\n",
       "mean         0.111115\n",
       "std          0.355920\n",
       "min         -1.250000\n",
       "1%           0.000000\n",
       "2%           0.000000\n",
       "3%           0.000000\n",
       "4%           0.000000\n",
       "5%           0.000000\n",
       "25%          0.000000\n",
       "50%          0.000000\n",
       "75%          0.000000\n",
       "90%          0.000000\n",
       "95%          1.250000\n",
       "96%          1.250000\n",
       "97%          1.250000\n",
       "98%          1.250000\n",
       "99%          1.250000\n",
       "max          1.250000\n",
       "Name: airport_fee, dtype: float64"
      ]
     },
     "execution_count": 46,
     "metadata": {},
     "output_type": "execute_result"
    }
   ],
   "source": [
    "df.airport_fee.describe(percentiles=[.01,.02,.03,.04,.05,.25,.5,.75,.9,.95,.96,.97,.98,.99])"
   ]
  },
  {
   "cell_type": "markdown",
   "id": "17ae209b",
   "metadata": {},
   "source": [
    "### airport_fee cant be -ve "
   ]
  },
  {
   "cell_type": "code",
   "execution_count": 47,
   "id": "a5db2189",
   "metadata": {},
   "outputs": [],
   "source": [
    "df = df[df['airport_fee']>=0]"
   ]
  },
  {
   "cell_type": "code",
   "execution_count": 48,
   "id": "6a2114fb",
   "metadata": {},
   "outputs": [
    {
     "name": "stdout",
     "output_type": "stream",
     "text": [
      "Values:\n",
      "  0.3    95685\n",
      " 0.0       62\n",
      "-0.3       17\n",
      "Name: improvement_surcharge, dtype: int64 \n",
      "\n",
      "Unique:\n",
      " [ 0.3 -0.3  0. ]\n"
     ]
    },
    {
     "data": {
      "image/png": "[encoded data removed]",
      "text/plain": [
       "<Figure size 640x480 with 1 Axes>"
      ]
     },
     "metadata": {},
     "output_type": "display_data"
    }
   ],
   "source": [
    "object_cat(data= df, x='improvement_surcharge')"
   ]
  },
  {
   "cell_type": "code",
   "execution_count": 49,
   "id": "a9dceff9",
   "metadata": {},
   "outputs": [],
   "source": [
    "df.drop('improvement_surcharge', axis=1,inplace=True)"
   ]
  },
  {
   "cell_type": "markdown",
   "id": "0a734391",
   "metadata": {},
   "source": [
    "## I can check the data type of  tpep_pickup_datetime"
   ]
  },
  {
   "cell_type": "code",
   "execution_count": 50,
   "id": "2518d0a7",
   "metadata": {},
   "outputs": [
    {
     "data": {
      "text/plain": [
       "dtype('<M8[ns]')"
      ]
     },
     "execution_count": 50,
     "metadata": {},
     "output_type": "execute_result"
    }
   ],
   "source": [
    "df['tpep_pickup_datetime'].dtype"
   ]
  },
  {
   "cell_type": "markdown",
   "id": "7805b52f",
   "metadata": {},
   "source": [
    "### tpep_pickup_datetime is in time date formate "
   ]
  },
  {
   "cell_type": "markdown",
   "id": "da7cd915",
   "metadata": {},
   "source": [
    "## I can find some useful variables from (tpep_pickup_datetime and tpep_dropoff_datetime)"
   ]
  },
  {
   "cell_type": "code",
   "execution_count": 51,
   "id": "12f44473",
   "metadata": {},
   "outputs": [],
   "source": [
    "df[\"year\"]=df[\"tpep_pickup_datetime\"].dt.year\n",
    "df[\"month\"]=df[\"tpep_pickup_datetime\"].dt.month \n",
    "df[\"day\"]=df[\"tpep_pickup_datetime\"].dt.dayofweek\n",
    "df[\"hour\"]=df[\"tpep_pickup_datetime\"].dt.hour\n",
    "df[\"minute\"]=df[\"tpep_pickup_datetime\"].dt.minute\n",
    "df[\"time\"]=df[\"tpep_pickup_datetime\"].dt.time\n",
    "\n",
    "df[\"day_month\"]=df[\"tpep_pickup_datetime\"].dt.day\n",
    "\n",
    "\n",
    "df[\"year_drop\"]=df[\"tpep_dropoff_datetime\"].dt.year\n",
    "df[\"month_drop\"]=df[\"tpep_dropoff_datetime\"].dt.month \n",
    "df[\"day_drop\"]=df[\"tpep_dropoff_datetime\"].dt.dayofweek\n",
    "df[\"hour_drop\"]=df[\"tpep_dropoff_datetime\"].dt.hour\n",
    "df[\"minute_drop\"]=df[\"tpep_dropoff_datetime\"].dt.minute\n",
    "df[\"time_drop\"]=df[\"tpep_dropoff_datetime\"].dt.time\n",
    "df[\"day_month_drop\"]=df[\"tpep_dropoff_datetime\"].dt.day"
   ]
  },
  {
   "cell_type": "markdown",
   "id": "73a47412",
   "metadata": {},
   "source": [
    "### I can calculate the Duraction with the help of (tpep_pickup_datetime and tpep_dropoff_datetime) "
   ]
  },
  {
   "cell_type": "code",
   "execution_count": 52,
   "id": "af6261f0",
   "metadata": {},
   "outputs": [],
   "source": [
    "df[\"duration\"]=((df[\"tpep_dropoff_datetime\"]-df[\"tpep_pickup_datetime\"]))/pd.Timedelta(minutes=1)"
   ]
  },
  {
   "cell_type": "code",
   "execution_count": 53,
   "id": "2ee288ea",
   "metadata": {},
   "outputs": [
    {
     "data": {
      "text/plain": [
       "count    95764.000000\n",
       "mean        18.598577\n",
       "std         49.732778\n",
       "min          0.000000\n",
       "25%          7.850000\n",
       "50%         13.100000\n",
       "75%         21.516667\n",
       "max       5113.133333\n",
       "Name: duration, dtype: float64"
      ]
     },
     "execution_count": 53,
     "metadata": {},
     "output_type": "execute_result"
    }
   ],
   "source": [
    "df[\"duration\"].describe()"
   ]
  },
  {
   "cell_type": "code",
   "execution_count": 54,
   "id": "c1c6a2da",
   "metadata": {},
   "outputs": [
    {
     "data": {
      "text/html": [
       "<div>\n",
       "<style scoped>\n",
       "    .dataframe tbody tr th:only-of-type {\n",
       "        vertical-align: middle;\n",
       "    }\n",
       "\n",
       "    .dataframe tbody tr th {\n",
       "        vertical-align: top;\n",
       "    }\n",
       "\n",
       "    .dataframe thead th {\n",
       "        text-align: right;\n",
       "    }\n",
       "</style>\n",
       "<table border=\"1\" class=\"dataframe\">\n",
       "  <thead>\n",
       "    <tr style=\"text-align: right;\">\n",
       "      <th></th>\n",
       "      <th>VendorID</th>\n",
       "      <th>tpep_pickup_datetime</th>\n",
       "      <th>tpep_dropoff_datetime</th>\n",
       "      <th>passenger_count</th>\n",
       "      <th>trip_distance</th>\n",
       "      <th>RatecodeID</th>\n",
       "      <th>store_and_fwd_flag</th>\n",
       "      <th>payment_type</th>\n",
       "      <th>fare_amount</th>\n",
       "      <th>extra</th>\n",
       "      <th>...</th>\n",
       "      <th>time</th>\n",
       "      <th>day_month</th>\n",
       "      <th>year_drop</th>\n",
       "      <th>month_drop</th>\n",
       "      <th>day_drop</th>\n",
       "      <th>hour_drop</th>\n",
       "      <th>minute_drop</th>\n",
       "      <th>time_drop</th>\n",
       "      <th>day_month_drop</th>\n",
       "      <th>duration</th>\n",
       "    </tr>\n",
       "  </thead>\n",
       "  <tbody>\n",
       "  </tbody>\n",
       "</table>\n",
       "<p>0 rows × 33 columns</p>\n",
       "</div>"
      ],
      "text/plain": [
       "Empty DataFrame\n",
       "Columns: [VendorID, tpep_pickup_datetime, tpep_dropoff_datetime, passenger_count, trip_distance, RatecodeID, store_and_fwd_flag, payment_type, fare_amount, extra, mta_tax, tip_amount, tolls_amount, total_amount, congestion_surcharge, airport_fee, passenger_cat, is_pu_do_location_same, year, month, day, hour, minute, time, day_month, year_drop, month_drop, day_drop, hour_drop, minute_drop, time_drop, day_month_drop, duration]\n",
       "Index: []\n",
       "\n",
       "[0 rows x 33 columns]"
      ]
     },
     "execution_count": 54,
     "metadata": {},
     "output_type": "execute_result"
    }
   ],
   "source": [
    "df[df['duration']<0]"
   ]
  },
  {
   "cell_type": "markdown",
   "id": "4a2c4842",
   "metadata": {},
   "source": [
    "### I can categorized the duration on the basis of type of trip"
   ]
  },
  {
   "cell_type": "code",
   "execution_count": 55,
   "id": "21ee78d1",
   "metadata": {},
   "outputs": [],
   "source": [
    "def dura(x):\n",
    "    if x<15:\n",
    "        return \"short_trip\"\n",
    "    elif x>=15 and x<30:\n",
    "        return \"medium_time_trip\"\n",
    "    elif x>=30 and x<60:\n",
    "        return \"long_time_trip\"\n",
    "    else:\n",
    "        return \"very_long_time_trip\""
   ]
  },
  {
   "cell_type": "code",
   "execution_count": 56,
   "id": "3a6686db",
   "metadata": {},
   "outputs": [],
   "source": [
    "df[\"length_duration\"]=df[\"duration\"].apply(dura)"
   ]
  },
  {
   "cell_type": "markdown",
   "id": "daf68d18",
   "metadata": {},
   "source": [
    "### i can categorized hour_trip on the basis of blew trip"
   ]
  },
  {
   "cell_type": "code",
   "execution_count": 57,
   "id": "f187f503",
   "metadata": {},
   "outputs": [],
   "source": [
    "def time(x):\n",
    "    if x>=5 and x<8:\n",
    "        return \"early_morning_trip\"\n",
    "    elif x>=8 and x <12:\n",
    "        return \"morning_office_trip\"\n",
    "    elif x>=12 and x<16:\n",
    "        return \"afternoo_trip\"\n",
    "    elif x>=16 and x<20:\n",
    "        return \"evening_office_trip\"\n",
    "    elif x>=20 and x<23:\n",
    "        return \"night_trip\"\n",
    "    elif x>=23 and x<5:\n",
    "        return \"Late_night_trip\"\n",
    "    else :\n",
    "        return \"Unknown\""
   ]
  },
  {
   "cell_type": "code",
   "execution_count": 58,
   "id": "2334015e",
   "metadata": {},
   "outputs": [],
   "source": [
    "df[\"hour_trip\"]=df[\"hour\"].apply(time)"
   ]
  },
  {
   "cell_type": "markdown",
   "id": "9dd3d0e5",
   "metadata": {},
   "source": [
    "### i can categorized month_cat on the basis of blew month"
   ]
  },
  {
   "cell_type": "code",
   "execution_count": 59,
   "id": "dc935c5c",
   "metadata": {},
   "outputs": [],
   "source": [
    "def month(x):\n",
    "    if x<=10:\n",
    "        return \"start_of_month\"\n",
    "    elif x>10 and x<=20:\n",
    "        return \"mid_of_month\"\n",
    "    elif x >20 :\n",
    "        return \"end_of_month\""
   ]
  },
  {
   "cell_type": "code",
   "execution_count": 60,
   "id": "0f49514a",
   "metadata": {},
   "outputs": [],
   "source": [
    "df[\"month_cat\"]=df[\"day_month\"].apply(month)"
   ]
  },
  {
   "cell_type": "code",
   "execution_count": 61,
   "id": "9db48d95",
   "metadata": {},
   "outputs": [],
   "source": [
    "df[\"is_weekend\"]=np.where(df[\"day\"].isin([5,6]), 1,0)"
   ]
  },
  {
   "cell_type": "code",
   "execution_count": 62,
   "id": "e7af0de9",
   "metadata": {},
   "outputs": [],
   "source": [
    "df.drop(columns=['tpep_pickup_datetime','tpep_dropoff_datetime'],inplace=True)"
   ]
  },
  {
   "cell_type": "code",
   "execution_count": 63,
   "id": "f1e96e94",
   "metadata": {},
   "outputs": [
    {
     "data": {
      "text/plain": [
       "(95764, 35)"
      ]
     },
     "execution_count": 63,
     "metadata": {},
     "output_type": "execute_result"
    }
   ],
   "source": [
    "df.shape"
   ]
  },
  {
   "cell_type": "code",
   "execution_count": 64,
   "id": "72da6fa2",
   "metadata": {},
   "outputs": [
    {
     "data": {
      "text/html": [
       "<div>\n",
       "<style scoped>\n",
       "    .dataframe tbody tr th:only-of-type {\n",
       "        vertical-align: middle;\n",
       "    }\n",
       "\n",
       "    .dataframe tbody tr th {\n",
       "        vertical-align: top;\n",
       "    }\n",
       "\n",
       "    .dataframe thead th {\n",
       "        text-align: right;\n",
       "    }\n",
       "</style>\n",
       "<table border=\"1\" class=\"dataframe\">\n",
       "  <thead>\n",
       "    <tr style=\"text-align: right;\">\n",
       "      <th></th>\n",
       "      <th>count</th>\n",
       "      <th>mean</th>\n",
       "      <th>std</th>\n",
       "      <th>min</th>\n",
       "      <th>1%</th>\n",
       "      <th>2%</th>\n",
       "      <th>3%</th>\n",
       "      <th>4%</th>\n",
       "      <th>5%</th>\n",
       "      <th>10%</th>\n",
       "      <th>25%</th>\n",
       "      <th>50%</th>\n",
       "      <th>75%</th>\n",
       "      <th>90%</th>\n",
       "      <th>95%</th>\n",
       "      <th>96%</th>\n",
       "      <th>97%</th>\n",
       "      <th>98%</th>\n",
       "      <th>99%</th>\n",
       "      <th>max</th>\n",
       "    </tr>\n",
       "  </thead>\n",
       "  <tbody>\n",
       "    <tr>\n",
       "      <th>passenger_count</th>\n",
       "      <td>95764.0</td>\n",
       "      <td>1.383265</td>\n",
       "      <td>0.934618</td>\n",
       "      <td>0.00</td>\n",
       "      <td>0.000000</td>\n",
       "      <td>1.000000</td>\n",
       "      <td>1.000000</td>\n",
       "      <td>1.000000</td>\n",
       "      <td>1.00</td>\n",
       "      <td>1.000000</td>\n",
       "      <td>1.00</td>\n",
       "      <td>1.00</td>\n",
       "      <td>1.000000</td>\n",
       "      <td>2.000000</td>\n",
       "      <td>3.000000</td>\n",
       "      <td>4.000000</td>\n",
       "      <td>4.0000</td>\n",
       "      <td>5.000000</td>\n",
       "      <td>6.000000</td>\n",
       "      <td>9.000000</td>\n",
       "    </tr>\n",
       "    <tr>\n",
       "      <th>trip_distance</th>\n",
       "      <td>95764.0</td>\n",
       "      <td>3.670113</td>\n",
       "      <td>4.698643</td>\n",
       "      <td>0.00</td>\n",
       "      <td>0.000000</td>\n",
       "      <td>0.200000</td>\n",
       "      <td>0.380000</td>\n",
       "      <td>0.460000</td>\n",
       "      <td>0.50</td>\n",
       "      <td>0.700000</td>\n",
       "      <td>1.12</td>\n",
       "      <td>1.90</td>\n",
       "      <td>3.700000</td>\n",
       "      <td>9.700000</td>\n",
       "      <td>16.480000</td>\n",
       "      <td>17.430000</td>\n",
       "      <td>18.1000</td>\n",
       "      <td>18.900000</td>\n",
       "      <td>20.530000</td>\n",
       "      <td>173.460000</td>\n",
       "    </tr>\n",
       "    <tr>\n",
       "      <th>fare_amount</th>\n",
       "      <td>95764.0</td>\n",
       "      <td>17.575855</td>\n",
       "      <td>605.857889</td>\n",
       "      <td>-150.00</td>\n",
       "      <td>3.500000</td>\n",
       "      <td>4.000000</td>\n",
       "      <td>4.000000</td>\n",
       "      <td>4.500000</td>\n",
       "      <td>4.50</td>\n",
       "      <td>5.500000</td>\n",
       "      <td>7.50</td>\n",
       "      <td>10.50</td>\n",
       "      <td>17.500000</td>\n",
       "      <td>34.000000</td>\n",
       "      <td>52.000000</td>\n",
       "      <td>52.000000</td>\n",
       "      <td>52.0000</td>\n",
       "      <td>52.000000</td>\n",
       "      <td>63.100000</td>\n",
       "      <td>187444.960000</td>\n",
       "    </tr>\n",
       "    <tr>\n",
       "      <th>extra</th>\n",
       "      <td>95764.0</td>\n",
       "      <td>1.048771</td>\n",
       "      <td>1.259965</td>\n",
       "      <td>0.00</td>\n",
       "      <td>0.000000</td>\n",
       "      <td>0.000000</td>\n",
       "      <td>0.000000</td>\n",
       "      <td>0.000000</td>\n",
       "      <td>0.00</td>\n",
       "      <td>0.000000</td>\n",
       "      <td>0.00</td>\n",
       "      <td>0.50</td>\n",
       "      <td>2.500000</td>\n",
       "      <td>3.000000</td>\n",
       "      <td>3.500000</td>\n",
       "      <td>3.500000</td>\n",
       "      <td>3.5000</td>\n",
       "      <td>3.500000</td>\n",
       "      <td>4.250000</td>\n",
       "      <td>8.250000</td>\n",
       "    </tr>\n",
       "    <tr>\n",
       "      <th>mta_tax</th>\n",
       "      <td>95764.0</td>\n",
       "      <td>0.493797</td>\n",
       "      <td>0.058676</td>\n",
       "      <td>0.00</td>\n",
       "      <td>0.000000</td>\n",
       "      <td>0.500000</td>\n",
       "      <td>0.500000</td>\n",
       "      <td>0.500000</td>\n",
       "      <td>0.50</td>\n",
       "      <td>0.500000</td>\n",
       "      <td>0.50</td>\n",
       "      <td>0.50</td>\n",
       "      <td>0.500000</td>\n",
       "      <td>0.500000</td>\n",
       "      <td>0.500000</td>\n",
       "      <td>0.500000</td>\n",
       "      <td>0.5000</td>\n",
       "      <td>0.500000</td>\n",
       "      <td>0.500000</td>\n",
       "      <td>2.540000</td>\n",
       "    </tr>\n",
       "    <tr>\n",
       "      <th>tip_amount</th>\n",
       "      <td>95764.0</td>\n",
       "      <td>2.852234</td>\n",
       "      <td>3.333203</td>\n",
       "      <td>0.00</td>\n",
       "      <td>0.000000</td>\n",
       "      <td>0.000000</td>\n",
       "      <td>0.000000</td>\n",
       "      <td>0.000000</td>\n",
       "      <td>0.00</td>\n",
       "      <td>0.000000</td>\n",
       "      <td>1.00</td>\n",
       "      <td>2.20</td>\n",
       "      <td>3.460000</td>\n",
       "      <td>6.080000</td>\n",
       "      <td>10.000000</td>\n",
       "      <td>11.020000</td>\n",
       "      <td>12.3500</td>\n",
       "      <td>12.620000</td>\n",
       "      <td>15.000000</td>\n",
       "      <td>100.000000</td>\n",
       "    </tr>\n",
       "    <tr>\n",
       "      <th>tolls_amount</th>\n",
       "      <td>95764.0</td>\n",
       "      <td>0.605967</td>\n",
       "      <td>2.111295</td>\n",
       "      <td>-13.75</td>\n",
       "      <td>0.000000</td>\n",
       "      <td>0.000000</td>\n",
       "      <td>0.000000</td>\n",
       "      <td>0.000000</td>\n",
       "      <td>0.00</td>\n",
       "      <td>0.000000</td>\n",
       "      <td>0.00</td>\n",
       "      <td>0.00</td>\n",
       "      <td>0.000000</td>\n",
       "      <td>0.000000</td>\n",
       "      <td>6.550000</td>\n",
       "      <td>6.550000</td>\n",
       "      <td>6.5500</td>\n",
       "      <td>6.550000</td>\n",
       "      <td>6.550000</td>\n",
       "      <td>99.990000</td>\n",
       "    </tr>\n",
       "    <tr>\n",
       "      <th>total_amount</th>\n",
       "      <td>95764.0</td>\n",
       "      <td>24.617605</td>\n",
       "      <td>605.945034</td>\n",
       "      <td>-152.80</td>\n",
       "      <td>6.800000</td>\n",
       "      <td>7.800000</td>\n",
       "      <td>8.300000</td>\n",
       "      <td>8.800000</td>\n",
       "      <td>8.97</td>\n",
       "      <td>10.143000</td>\n",
       "      <td>12.36</td>\n",
       "      <td>16.55</td>\n",
       "      <td>24.000000</td>\n",
       "      <td>47.220000</td>\n",
       "      <td>66.350000</td>\n",
       "      <td>69.850000</td>\n",
       "      <td>74.2200</td>\n",
       "      <td>75.720000</td>\n",
       "      <td>81.120000</td>\n",
       "      <td>187448.260000</td>\n",
       "    </tr>\n",
       "    <tr>\n",
       "      <th>congestion_surcharge</th>\n",
       "      <td>95764.0</td>\n",
       "      <td>2.297680</td>\n",
       "      <td>0.682676</td>\n",
       "      <td>-2.50</td>\n",
       "      <td>0.000000</td>\n",
       "      <td>0.000000</td>\n",
       "      <td>0.000000</td>\n",
       "      <td>0.000000</td>\n",
       "      <td>0.00</td>\n",
       "      <td>2.500000</td>\n",
       "      <td>2.50</td>\n",
       "      <td>2.50</td>\n",
       "      <td>2.500000</td>\n",
       "      <td>2.500000</td>\n",
       "      <td>2.500000</td>\n",
       "      <td>2.500000</td>\n",
       "      <td>2.5000</td>\n",
       "      <td>2.500000</td>\n",
       "      <td>2.500000</td>\n",
       "      <td>2.500000</td>\n",
       "    </tr>\n",
       "    <tr>\n",
       "      <th>airport_fee</th>\n",
       "      <td>95764.0</td>\n",
       "      <td>0.111172</td>\n",
       "      <td>0.355819</td>\n",
       "      <td>0.00</td>\n",
       "      <td>0.000000</td>\n",
       "      <td>0.000000</td>\n",
       "      <td>0.000000</td>\n",
       "      <td>0.000000</td>\n",
       "      <td>0.00</td>\n",
       "      <td>0.000000</td>\n",
       "      <td>0.00</td>\n",
       "      <td>0.00</td>\n",
       "      <td>0.000000</td>\n",
       "      <td>0.000000</td>\n",
       "      <td>1.250000</td>\n",
       "      <td>1.250000</td>\n",
       "      <td>1.2500</td>\n",
       "      <td>1.250000</td>\n",
       "      <td>1.250000</td>\n",
       "      <td>1.250000</td>\n",
       "    </tr>\n",
       "    <tr>\n",
       "      <th>is_pu_do_location_same</th>\n",
       "      <td>95764.0</td>\n",
       "      <td>0.050468</td>\n",
       "      <td>0.218909</td>\n",
       "      <td>0.00</td>\n",
       "      <td>0.000000</td>\n",
       "      <td>0.000000</td>\n",
       "      <td>0.000000</td>\n",
       "      <td>0.000000</td>\n",
       "      <td>0.00</td>\n",
       "      <td>0.000000</td>\n",
       "      <td>0.00</td>\n",
       "      <td>0.00</td>\n",
       "      <td>0.000000</td>\n",
       "      <td>0.000000</td>\n",
       "      <td>1.000000</td>\n",
       "      <td>1.000000</td>\n",
       "      <td>1.0000</td>\n",
       "      <td>1.000000</td>\n",
       "      <td>1.000000</td>\n",
       "      <td>1.000000</td>\n",
       "    </tr>\n",
       "    <tr>\n",
       "      <th>year</th>\n",
       "      <td>95764.0</td>\n",
       "      <td>2022.000000</td>\n",
       "      <td>0.000000</td>\n",
       "      <td>2022.00</td>\n",
       "      <td>2022.000000</td>\n",
       "      <td>2022.000000</td>\n",
       "      <td>2022.000000</td>\n",
       "      <td>2022.000000</td>\n",
       "      <td>2022.00</td>\n",
       "      <td>2022.000000</td>\n",
       "      <td>2022.00</td>\n",
       "      <td>2022.00</td>\n",
       "      <td>2022.000000</td>\n",
       "      <td>2022.000000</td>\n",
       "      <td>2022.000000</td>\n",
       "      <td>2022.000000</td>\n",
       "      <td>2022.0000</td>\n",
       "      <td>2022.000000</td>\n",
       "      <td>2022.000000</td>\n",
       "      <td>2022.000000</td>\n",
       "    </tr>\n",
       "    <tr>\n",
       "      <th>month</th>\n",
       "      <td>95764.0</td>\n",
       "      <td>9.000021</td>\n",
       "      <td>0.004570</td>\n",
       "      <td>9.00</td>\n",
       "      <td>9.000000</td>\n",
       "      <td>9.000000</td>\n",
       "      <td>9.000000</td>\n",
       "      <td>9.000000</td>\n",
       "      <td>9.00</td>\n",
       "      <td>9.000000</td>\n",
       "      <td>9.00</td>\n",
       "      <td>9.00</td>\n",
       "      <td>9.000000</td>\n",
       "      <td>9.000000</td>\n",
       "      <td>9.000000</td>\n",
       "      <td>9.000000</td>\n",
       "      <td>9.0000</td>\n",
       "      <td>9.000000</td>\n",
       "      <td>9.000000</td>\n",
       "      <td>10.000000</td>\n",
       "    </tr>\n",
       "    <tr>\n",
       "      <th>day</th>\n",
       "      <td>95764.0</td>\n",
       "      <td>2.900746</td>\n",
       "      <td>1.819473</td>\n",
       "      <td>0.00</td>\n",
       "      <td>0.000000</td>\n",
       "      <td>0.000000</td>\n",
       "      <td>0.000000</td>\n",
       "      <td>0.000000</td>\n",
       "      <td>0.00</td>\n",
       "      <td>0.000000</td>\n",
       "      <td>1.00</td>\n",
       "      <td>3.00</td>\n",
       "      <td>4.000000</td>\n",
       "      <td>5.000000</td>\n",
       "      <td>6.000000</td>\n",
       "      <td>6.000000</td>\n",
       "      <td>6.0000</td>\n",
       "      <td>6.000000</td>\n",
       "      <td>6.000000</td>\n",
       "      <td>6.000000</td>\n",
       "    </tr>\n",
       "    <tr>\n",
       "      <th>hour</th>\n",
       "      <td>95764.0</td>\n",
       "      <td>14.168268</td>\n",
       "      <td>5.830213</td>\n",
       "      <td>0.00</td>\n",
       "      <td>0.000000</td>\n",
       "      <td>0.000000</td>\n",
       "      <td>1.000000</td>\n",
       "      <td>1.000000</td>\n",
       "      <td>2.00</td>\n",
       "      <td>7.000000</td>\n",
       "      <td>10.00</td>\n",
       "      <td>15.00</td>\n",
       "      <td>19.000000</td>\n",
       "      <td>21.000000</td>\n",
       "      <td>22.000000</td>\n",
       "      <td>23.000000</td>\n",
       "      <td>23.0000</td>\n",
       "      <td>23.000000</td>\n",
       "      <td>23.000000</td>\n",
       "      <td>23.000000</td>\n",
       "    </tr>\n",
       "    <tr>\n",
       "      <th>minute</th>\n",
       "      <td>95764.0</td>\n",
       "      <td>29.503937</td>\n",
       "      <td>17.313527</td>\n",
       "      <td>0.00</td>\n",
       "      <td>0.000000</td>\n",
       "      <td>1.000000</td>\n",
       "      <td>1.000000</td>\n",
       "      <td>2.000000</td>\n",
       "      <td>2.00</td>\n",
       "      <td>6.000000</td>\n",
       "      <td>14.00</td>\n",
       "      <td>29.00</td>\n",
       "      <td>45.000000</td>\n",
       "      <td>53.000000</td>\n",
       "      <td>56.000000</td>\n",
       "      <td>57.000000</td>\n",
       "      <td>58.0000</td>\n",
       "      <td>58.000000</td>\n",
       "      <td>59.000000</td>\n",
       "      <td>59.000000</td>\n",
       "    </tr>\n",
       "    <tr>\n",
       "      <th>day_month</th>\n",
       "      <td>95764.0</td>\n",
       "      <td>15.723550</td>\n",
       "      <td>8.790978</td>\n",
       "      <td>1.00</td>\n",
       "      <td>1.000000</td>\n",
       "      <td>1.000000</td>\n",
       "      <td>1.000000</td>\n",
       "      <td>2.000000</td>\n",
       "      <td>2.00</td>\n",
       "      <td>4.000000</td>\n",
       "      <td>8.00</td>\n",
       "      <td>15.00</td>\n",
       "      <td>24.000000</td>\n",
       "      <td>28.000000</td>\n",
       "      <td>29.000000</td>\n",
       "      <td>29.000000</td>\n",
       "      <td>30.0000</td>\n",
       "      <td>30.000000</td>\n",
       "      <td>30.000000</td>\n",
       "      <td>30.000000</td>\n",
       "    </tr>\n",
       "    <tr>\n",
       "      <th>year_drop</th>\n",
       "      <td>95764.0</td>\n",
       "      <td>2022.000000</td>\n",
       "      <td>0.000000</td>\n",
       "      <td>2022.00</td>\n",
       "      <td>2022.000000</td>\n",
       "      <td>2022.000000</td>\n",
       "      <td>2022.000000</td>\n",
       "      <td>2022.000000</td>\n",
       "      <td>2022.00</td>\n",
       "      <td>2022.000000</td>\n",
       "      <td>2022.00</td>\n",
       "      <td>2022.00</td>\n",
       "      <td>2022.000000</td>\n",
       "      <td>2022.000000</td>\n",
       "      <td>2022.000000</td>\n",
       "      <td>2022.000000</td>\n",
       "      <td>2022.0000</td>\n",
       "      <td>2022.000000</td>\n",
       "      <td>2022.000000</td>\n",
       "      <td>2022.000000</td>\n",
       "    </tr>\n",
       "    <tr>\n",
       "      <th>month_drop</th>\n",
       "      <td>95764.0</td>\n",
       "      <td>9.000522</td>\n",
       "      <td>0.022844</td>\n",
       "      <td>9.00</td>\n",
       "      <td>9.000000</td>\n",
       "      <td>9.000000</td>\n",
       "      <td>9.000000</td>\n",
       "      <td>9.000000</td>\n",
       "      <td>9.00</td>\n",
       "      <td>9.000000</td>\n",
       "      <td>9.00</td>\n",
       "      <td>9.00</td>\n",
       "      <td>9.000000</td>\n",
       "      <td>9.000000</td>\n",
       "      <td>9.000000</td>\n",
       "      <td>9.000000</td>\n",
       "      <td>9.0000</td>\n",
       "      <td>9.000000</td>\n",
       "      <td>9.000000</td>\n",
       "      <td>10.000000</td>\n",
       "    </tr>\n",
       "    <tr>\n",
       "      <th>day_drop</th>\n",
       "      <td>95764.0</td>\n",
       "      <td>2.905674</td>\n",
       "      <td>1.821324</td>\n",
       "      <td>0.00</td>\n",
       "      <td>0.000000</td>\n",
       "      <td>0.000000</td>\n",
       "      <td>0.000000</td>\n",
       "      <td>0.000000</td>\n",
       "      <td>0.00</td>\n",
       "      <td>0.000000</td>\n",
       "      <td>1.00</td>\n",
       "      <td>3.00</td>\n",
       "      <td>4.000000</td>\n",
       "      <td>5.000000</td>\n",
       "      <td>6.000000</td>\n",
       "      <td>6.000000</td>\n",
       "      <td>6.0000</td>\n",
       "      <td>6.000000</td>\n",
       "      <td>6.000000</td>\n",
       "      <td>6.000000</td>\n",
       "    </tr>\n",
       "    <tr>\n",
       "      <th>hour_drop</th>\n",
       "      <td>95764.0</td>\n",
       "      <td>14.226442</td>\n",
       "      <td>5.942727</td>\n",
       "      <td>0.00</td>\n",
       "      <td>0.000000</td>\n",
       "      <td>0.000000</td>\n",
       "      <td>0.000000</td>\n",
       "      <td>1.000000</td>\n",
       "      <td>1.00</td>\n",
       "      <td>6.000000</td>\n",
       "      <td>10.00</td>\n",
       "      <td>15.00</td>\n",
       "      <td>19.000000</td>\n",
       "      <td>21.000000</td>\n",
       "      <td>22.000000</td>\n",
       "      <td>23.000000</td>\n",
       "      <td>23.0000</td>\n",
       "      <td>23.000000</td>\n",
       "      <td>23.000000</td>\n",
       "      <td>23.000000</td>\n",
       "    </tr>\n",
       "    <tr>\n",
       "      <th>minute_drop</th>\n",
       "      <td>95764.0</td>\n",
       "      <td>29.516415</td>\n",
       "      <td>17.341222</td>\n",
       "      <td>0.00</td>\n",
       "      <td>0.000000</td>\n",
       "      <td>1.000000</td>\n",
       "      <td>1.000000</td>\n",
       "      <td>2.000000</td>\n",
       "      <td>2.00</td>\n",
       "      <td>5.000000</td>\n",
       "      <td>14.00</td>\n",
       "      <td>30.00</td>\n",
       "      <td>45.000000</td>\n",
       "      <td>54.000000</td>\n",
       "      <td>57.000000</td>\n",
       "      <td>57.000000</td>\n",
       "      <td>58.0000</td>\n",
       "      <td>58.000000</td>\n",
       "      <td>59.000000</td>\n",
       "      <td>59.000000</td>\n",
       "    </tr>\n",
       "    <tr>\n",
       "      <th>day_month_drop</th>\n",
       "      <td>95764.0</td>\n",
       "      <td>15.718997</td>\n",
       "      <td>8.790943</td>\n",
       "      <td>1.00</td>\n",
       "      <td>1.000000</td>\n",
       "      <td>1.000000</td>\n",
       "      <td>1.000000</td>\n",
       "      <td>2.000000</td>\n",
       "      <td>2.00</td>\n",
       "      <td>4.000000</td>\n",
       "      <td>8.00</td>\n",
       "      <td>15.00</td>\n",
       "      <td>24.000000</td>\n",
       "      <td>28.000000</td>\n",
       "      <td>29.000000</td>\n",
       "      <td>29.000000</td>\n",
       "      <td>30.0000</td>\n",
       "      <td>30.000000</td>\n",
       "      <td>30.000000</td>\n",
       "      <td>30.000000</td>\n",
       "    </tr>\n",
       "    <tr>\n",
       "      <th>duration</th>\n",
       "      <td>95764.0</td>\n",
       "      <td>18.598577</td>\n",
       "      <td>49.732778</td>\n",
       "      <td>0.00</td>\n",
       "      <td>0.377167</td>\n",
       "      <td>1.966667</td>\n",
       "      <td>2.633333</td>\n",
       "      <td>3.083333</td>\n",
       "      <td>3.45</td>\n",
       "      <td>4.833333</td>\n",
       "      <td>7.85</td>\n",
       "      <td>13.10</td>\n",
       "      <td>21.516667</td>\n",
       "      <td>34.383333</td>\n",
       "      <td>45.766667</td>\n",
       "      <td>49.882667</td>\n",
       "      <td>54.9685</td>\n",
       "      <td>61.862333</td>\n",
       "      <td>73.266667</td>\n",
       "      <td>5113.133333</td>\n",
       "    </tr>\n",
       "    <tr>\n",
       "      <th>is_weekend</th>\n",
       "      <td>95764.0</td>\n",
       "      <td>0.211802</td>\n",
       "      <td>0.408587</td>\n",
       "      <td>0.00</td>\n",
       "      <td>0.000000</td>\n",
       "      <td>0.000000</td>\n",
       "      <td>0.000000</td>\n",
       "      <td>0.000000</td>\n",
       "      <td>0.00</td>\n",
       "      <td>0.000000</td>\n",
       "      <td>0.00</td>\n",
       "      <td>0.00</td>\n",
       "      <td>0.000000</td>\n",
       "      <td>1.000000</td>\n",
       "      <td>1.000000</td>\n",
       "      <td>1.000000</td>\n",
       "      <td>1.0000</td>\n",
       "      <td>1.000000</td>\n",
       "      <td>1.000000</td>\n",
       "      <td>1.000000</td>\n",
       "    </tr>\n",
       "  </tbody>\n",
       "</table>\n",
       "</div>"
      ],
      "text/plain": [
       "                          count         mean         std      min  \\\n",
       "passenger_count         95764.0     1.383265    0.934618     0.00   \n",
       "trip_distance           95764.0     3.670113    4.698643     0.00   \n",
       "fare_amount             95764.0    17.575855  605.857889  -150.00   \n",
       "extra                   95764.0     1.048771    1.259965     0.00   \n",
       "mta_tax                 95764.0     0.493797    0.058676     0.00   \n",
       "tip_amount              95764.0     2.852234    3.333203     0.00   \n",
       "tolls_amount            95764.0     0.605967    2.111295   -13.75   \n",
       "total_amount            95764.0    24.617605  605.945034  -152.80   \n",
       "congestion_surcharge    95764.0     2.297680    0.682676    -2.50   \n",
       "airport_fee             95764.0     0.111172    0.355819     0.00   \n",
       "is_pu_do_location_same  95764.0     0.050468    0.218909     0.00   \n",
       "year                    95764.0  2022.000000    0.000000  2022.00   \n",
       "month                   95764.0     9.000021    0.004570     9.00   \n",
       "day                     95764.0     2.900746    1.819473     0.00   \n",
       "hour                    95764.0    14.168268    5.830213     0.00   \n",
       "minute                  95764.0    29.503937   17.313527     0.00   \n",
       "day_month               95764.0    15.723550    8.790978     1.00   \n",
       "year_drop               95764.0  2022.000000    0.000000  2022.00   \n",
       "month_drop              95764.0     9.000522    0.022844     9.00   \n",
       "day_drop                95764.0     2.905674    1.821324     0.00   \n",
       "hour_drop               95764.0    14.226442    5.942727     0.00   \n",
       "minute_drop             95764.0    29.516415   17.341222     0.00   \n",
       "day_month_drop          95764.0    15.718997    8.790943     1.00   \n",
       "duration                95764.0    18.598577   49.732778     0.00   \n",
       "is_weekend              95764.0     0.211802    0.408587     0.00   \n",
       "\n",
       "                                 1%           2%           3%           4%  \\\n",
       "passenger_count            0.000000     1.000000     1.000000     1.000000   \n",
       "trip_distance              0.000000     0.200000     0.380000     0.460000   \n",
       "fare_amount                3.500000     4.000000     4.000000     4.500000   \n",
       "extra                      0.000000     0.000000     0.000000     0.000000   \n",
       "mta_tax                    0.000000     0.500000     0.500000     0.500000   \n",
       "tip_amount                 0.000000     0.000000     0.000000     0.000000   \n",
       "tolls_amount               0.000000     0.000000     0.000000     0.000000   \n",
       "total_amount               6.800000     7.800000     8.300000     8.800000   \n",
       "congestion_surcharge       0.000000     0.000000     0.000000     0.000000   \n",
       "airport_fee                0.000000     0.000000     0.000000     0.000000   \n",
       "is_pu_do_location_same     0.000000     0.000000     0.000000     0.000000   \n",
       "year                    2022.000000  2022.000000  2022.000000  2022.000000   \n",
       "month                      9.000000     9.000000     9.000000     9.000000   \n",
       "day                        0.000000     0.000000     0.000000     0.000000   \n",
       "hour                       0.000000     0.000000     1.000000     1.000000   \n",
       "minute                     0.000000     1.000000     1.000000     2.000000   \n",
       "day_month                  1.000000     1.000000     1.000000     2.000000   \n",
       "year_drop               2022.000000  2022.000000  2022.000000  2022.000000   \n",
       "month_drop                 9.000000     9.000000     9.000000     9.000000   \n",
       "day_drop                   0.000000     0.000000     0.000000     0.000000   \n",
       "hour_drop                  0.000000     0.000000     0.000000     1.000000   \n",
       "minute_drop                0.000000     1.000000     1.000000     2.000000   \n",
       "day_month_drop             1.000000     1.000000     1.000000     2.000000   \n",
       "duration                   0.377167     1.966667     2.633333     3.083333   \n",
       "is_weekend                 0.000000     0.000000     0.000000     0.000000   \n",
       "\n",
       "                             5%          10%      25%      50%          75%  \\\n",
       "passenger_count            1.00     1.000000     1.00     1.00     1.000000   \n",
       "trip_distance              0.50     0.700000     1.12     1.90     3.700000   \n",
       "fare_amount                4.50     5.500000     7.50    10.50    17.500000   \n",
       "extra                      0.00     0.000000     0.00     0.50     2.500000   \n",
       "mta_tax                    0.50     0.500000     0.50     0.50     0.500000   \n",
       "tip_amount                 0.00     0.000000     1.00     2.20     3.460000   \n",
       "tolls_amount               0.00     0.000000     0.00     0.00     0.000000   \n",
       "total_amount               8.97    10.143000    12.36    16.55    24.000000   \n",
       "congestion_surcharge       0.00     2.500000     2.50     2.50     2.500000   \n",
       "airport_fee                0.00     0.000000     0.00     0.00     0.000000   \n",
       "is_pu_do_location_same     0.00     0.000000     0.00     0.00     0.000000   \n",
       "year                    2022.00  2022.000000  2022.00  2022.00  2022.000000   \n",
       "month                      9.00     9.000000     9.00     9.00     9.000000   \n",
       "day                        0.00     0.000000     1.00     3.00     4.000000   \n",
       "hour                       2.00     7.000000    10.00    15.00    19.000000   \n",
       "minute                     2.00     6.000000    14.00    29.00    45.000000   \n",
       "day_month                  2.00     4.000000     8.00    15.00    24.000000   \n",
       "year_drop               2022.00  2022.000000  2022.00  2022.00  2022.000000   \n",
       "month_drop                 9.00     9.000000     9.00     9.00     9.000000   \n",
       "day_drop                   0.00     0.000000     1.00     3.00     4.000000   \n",
       "hour_drop                  1.00     6.000000    10.00    15.00    19.000000   \n",
       "minute_drop                2.00     5.000000    14.00    30.00    45.000000   \n",
       "day_month_drop             2.00     4.000000     8.00    15.00    24.000000   \n",
       "duration                   3.45     4.833333     7.85    13.10    21.516667   \n",
       "is_weekend                 0.00     0.000000     0.00     0.00     0.000000   \n",
       "\n",
       "                                90%          95%          96%        97%  \\\n",
       "passenger_count            2.000000     3.000000     4.000000     4.0000   \n",
       "trip_distance              9.700000    16.480000    17.430000    18.1000   \n",
       "fare_amount               34.000000    52.000000    52.000000    52.0000   \n",
       "extra                      3.000000     3.500000     3.500000     3.5000   \n",
       "mta_tax                    0.500000     0.500000     0.500000     0.5000   \n",
       "tip_amount                 6.080000    10.000000    11.020000    12.3500   \n",
       "tolls_amount               0.000000     6.550000     6.550000     6.5500   \n",
       "total_amount              47.220000    66.350000    69.850000    74.2200   \n",
       "congestion_surcharge       2.500000     2.500000     2.500000     2.5000   \n",
       "airport_fee                0.000000     1.250000     1.250000     1.2500   \n",
       "is_pu_do_location_same     0.000000     1.000000     1.000000     1.0000   \n",
       "year                    2022.000000  2022.000000  2022.000000  2022.0000   \n",
       "month                      9.000000     9.000000     9.000000     9.0000   \n",
       "day                        5.000000     6.000000     6.000000     6.0000   \n",
       "hour                      21.000000    22.000000    23.000000    23.0000   \n",
       "minute                    53.000000    56.000000    57.000000    58.0000   \n",
       "day_month                 28.000000    29.000000    29.000000    30.0000   \n",
       "year_drop               2022.000000  2022.000000  2022.000000  2022.0000   \n",
       "month_drop                 9.000000     9.000000     9.000000     9.0000   \n",
       "day_drop                   5.000000     6.000000     6.000000     6.0000   \n",
       "hour_drop                 21.000000    22.000000    23.000000    23.0000   \n",
       "minute_drop               54.000000    57.000000    57.000000    58.0000   \n",
       "day_month_drop            28.000000    29.000000    29.000000    30.0000   \n",
       "duration                  34.383333    45.766667    49.882667    54.9685   \n",
       "is_weekend                 1.000000     1.000000     1.000000     1.0000   \n",
       "\n",
       "                                98%          99%            max  \n",
       "passenger_count            5.000000     6.000000       9.000000  \n",
       "trip_distance             18.900000    20.530000     173.460000  \n",
       "fare_amount               52.000000    63.100000  187444.960000  \n",
       "extra                      3.500000     4.250000       8.250000  \n",
       "mta_tax                    0.500000     0.500000       2.540000  \n",
       "tip_amount                12.620000    15.000000     100.000000  \n",
       "tolls_amount               6.550000     6.550000      99.990000  \n",
       "total_amount              75.720000    81.120000  187448.260000  \n",
       "congestion_surcharge       2.500000     2.500000       2.500000  \n",
       "airport_fee                1.250000     1.250000       1.250000  \n",
       "is_pu_do_location_same     1.000000     1.000000       1.000000  \n",
       "year                    2022.000000  2022.000000    2022.000000  \n",
       "month                      9.000000     9.000000      10.000000  \n",
       "day                        6.000000     6.000000       6.000000  \n",
       "hour                      23.000000    23.000000      23.000000  \n",
       "minute                    58.000000    59.000000      59.000000  \n",
       "day_month                 30.000000    30.000000      30.000000  \n",
       "year_drop               2022.000000  2022.000000    2022.000000  \n",
       "month_drop                 9.000000     9.000000      10.000000  \n",
       "day_drop                   6.000000     6.000000       6.000000  \n",
       "hour_drop                 23.000000    23.000000      23.000000  \n",
       "minute_drop               58.000000    59.000000      59.000000  \n",
       "day_month_drop            30.000000    30.000000      30.000000  \n",
       "duration                  61.862333    73.266667    5113.133333  \n",
       "is_weekend                 1.000000     1.000000       1.000000  "
      ]
     },
     "execution_count": 64,
     "metadata": {},
     "output_type": "execute_result"
    }
   ],
   "source": [
    "df.describe(percentiles=[.01,.02,.03,.04,.05,.1,.25,.5,.75,.9,.95,.96,.97,.98,.99]).T"
   ]
  },
  {
   "cell_type": "markdown",
   "id": "2c4584c8",
   "metadata": {},
   "source": [
    "### Here i can see above table most of data are upper of .99% and  lower to 0.01% so i can treat this as outlier"
   ]
  },
  {
   "cell_type": "code",
   "execution_count": 65,
   "id": "4a4e3bc9",
   "metadata": {},
   "outputs": [],
   "source": [
    "def outliers(x):\n",
    "    x=x.clip(upper=x.quantile(.99))\n",
    "    x=x.clip(lower=x.quantile(.01))\n",
    "    return x"
   ]
  },
  {
   "cell_type": "code",
   "execution_count": 66,
   "id": "375c8982",
   "metadata": {},
   "outputs": [
    {
     "name": "stdout",
     "output_type": "stream",
     "text": [
      "Index(['passenger_count', 'trip_distance', 'fare_amount', 'extra', 'mta_tax',\n",
      "       'tip_amount', 'tolls_amount', 'total_amount', 'congestion_surcharge',\n",
      "       'airport_fee', 'is_pu_do_location_same', 'year', 'month', 'day', 'hour',\n",
      "       'minute', 'day_month', 'year_drop', 'month_drop', 'day_drop',\n",
      "       'hour_drop', 'minute_drop', 'day_month_drop', 'duration', 'is_weekend'],\n",
      "      dtype='object')\n",
      "Index(['VendorID', 'RatecodeID', 'store_and_fwd_flag', 'payment_type',\n",
      "       'passenger_cat', 'time', 'time_drop', 'length_duration', 'hour_trip',\n",
      "       'month_cat'],\n",
      "      dtype='object')\n"
     ]
    }
   ],
   "source": [
    "num=df.dtypes[df.dtypes!=\"object\"].index\n",
    "print(num)\n",
    "obj=df.dtypes[df.dtypes==\"object\"].index\n",
    "print(obj)"
   ]
  },
  {
   "cell_type": "code",
   "execution_count": 67,
   "id": "3756c36d",
   "metadata": {},
   "outputs": [],
   "source": [
    "num_data=df[num]\n",
    "obj_data=df[obj]"
   ]
  },
  {
   "cell_type": "code",
   "execution_count": 68,
   "id": "92fae134",
   "metadata": {},
   "outputs": [],
   "source": [
    "num_data0=num_data.apply(outliers)"
   ]
  },
  {
   "cell_type": "code",
   "execution_count": 69,
   "id": "8d7a8d60",
   "metadata": {},
   "outputs": [
    {
     "data": {
      "text/html": [
       "<div>\n",
       "<style scoped>\n",
       "    .dataframe tbody tr th:only-of-type {\n",
       "        vertical-align: middle;\n",
       "    }\n",
       "\n",
       "    .dataframe tbody tr th {\n",
       "        vertical-align: top;\n",
       "    }\n",
       "\n",
       "    .dataframe thead th {\n",
       "        text-align: right;\n",
       "    }\n",
       "</style>\n",
       "<table border=\"1\" class=\"dataframe\">\n",
       "  <thead>\n",
       "    <tr style=\"text-align: right;\">\n",
       "      <th></th>\n",
       "      <th>count</th>\n",
       "      <th>mean</th>\n",
       "      <th>std</th>\n",
       "      <th>min</th>\n",
       "      <th>1%</th>\n",
       "      <th>2%</th>\n",
       "      <th>3%</th>\n",
       "      <th>4%</th>\n",
       "      <th>5%</th>\n",
       "      <th>10%</th>\n",
       "      <th>25%</th>\n",
       "      <th>50%</th>\n",
       "      <th>75%</th>\n",
       "      <th>90%</th>\n",
       "      <th>95%</th>\n",
       "      <th>96%</th>\n",
       "      <th>97%</th>\n",
       "      <th>98%</th>\n",
       "      <th>99%</th>\n",
       "      <th>max</th>\n",
       "    </tr>\n",
       "  </thead>\n",
       "  <tbody>\n",
       "    <tr>\n",
       "      <th>passenger_count</th>\n",
       "      <td>95764.0</td>\n",
       "      <td>1.383213</td>\n",
       "      <td>0.934299</td>\n",
       "      <td>0.000000</td>\n",
       "      <td>0.000000</td>\n",
       "      <td>1.000000</td>\n",
       "      <td>1.000000</td>\n",
       "      <td>1.000000</td>\n",
       "      <td>1.00</td>\n",
       "      <td>1.000000</td>\n",
       "      <td>1.00</td>\n",
       "      <td>1.00</td>\n",
       "      <td>1.000000</td>\n",
       "      <td>2.000000</td>\n",
       "      <td>3.000000</td>\n",
       "      <td>4.000000</td>\n",
       "      <td>4.0000</td>\n",
       "      <td>5.000000</td>\n",
       "      <td>6.000000</td>\n",
       "      <td>6.000000</td>\n",
       "    </tr>\n",
       "    <tr>\n",
       "      <th>trip_distance</th>\n",
       "      <td>95764.0</td>\n",
       "      <td>3.632448</td>\n",
       "      <td>4.480781</td>\n",
       "      <td>0.000000</td>\n",
       "      <td>0.000000</td>\n",
       "      <td>0.200000</td>\n",
       "      <td>0.380000</td>\n",
       "      <td>0.460000</td>\n",
       "      <td>0.50</td>\n",
       "      <td>0.700000</td>\n",
       "      <td>1.12</td>\n",
       "      <td>1.90</td>\n",
       "      <td>3.700000</td>\n",
       "      <td>9.700000</td>\n",
       "      <td>16.480000</td>\n",
       "      <td>17.430000</td>\n",
       "      <td>18.1000</td>\n",
       "      <td>18.900000</td>\n",
       "      <td>20.530000</td>\n",
       "      <td>20.530000</td>\n",
       "    </tr>\n",
       "    <tr>\n",
       "      <th>fare_amount</th>\n",
       "      <td>95764.0</td>\n",
       "      <td>15.396023</td>\n",
       "      <td>13.013515</td>\n",
       "      <td>3.500000</td>\n",
       "      <td>3.500000</td>\n",
       "      <td>4.000000</td>\n",
       "      <td>4.000000</td>\n",
       "      <td>4.500000</td>\n",
       "      <td>4.50</td>\n",
       "      <td>5.500000</td>\n",
       "      <td>7.50</td>\n",
       "      <td>10.50</td>\n",
       "      <td>17.500000</td>\n",
       "      <td>34.000000</td>\n",
       "      <td>52.000000</td>\n",
       "      <td>52.000000</td>\n",
       "      <td>52.0000</td>\n",
       "      <td>52.000000</td>\n",
       "      <td>63.100000</td>\n",
       "      <td>63.100000</td>\n",
       "    </tr>\n",
       "    <tr>\n",
       "      <th>extra</th>\n",
       "      <td>95764.0</td>\n",
       "      <td>1.039663</td>\n",
       "      <td>1.226176</td>\n",
       "      <td>0.000000</td>\n",
       "      <td>0.000000</td>\n",
       "      <td>0.000000</td>\n",
       "      <td>0.000000</td>\n",
       "      <td>0.000000</td>\n",
       "      <td>0.00</td>\n",
       "      <td>0.000000</td>\n",
       "      <td>0.00</td>\n",
       "      <td>0.50</td>\n",
       "      <td>2.500000</td>\n",
       "      <td>3.000000</td>\n",
       "      <td>3.500000</td>\n",
       "      <td>3.500000</td>\n",
       "      <td>3.5000</td>\n",
       "      <td>3.500000</td>\n",
       "      <td>4.250000</td>\n",
       "      <td>4.250000</td>\n",
       "    </tr>\n",
       "    <tr>\n",
       "      <th>mta_tax</th>\n",
       "      <td>95764.0</td>\n",
       "      <td>0.493646</td>\n",
       "      <td>0.056007</td>\n",
       "      <td>0.000000</td>\n",
       "      <td>0.000000</td>\n",
       "      <td>0.500000</td>\n",
       "      <td>0.500000</td>\n",
       "      <td>0.500000</td>\n",
       "      <td>0.50</td>\n",
       "      <td>0.500000</td>\n",
       "      <td>0.50</td>\n",
       "      <td>0.50</td>\n",
       "      <td>0.500000</td>\n",
       "      <td>0.500000</td>\n",
       "      <td>0.500000</td>\n",
       "      <td>0.500000</td>\n",
       "      <td>0.5000</td>\n",
       "      <td>0.500000</td>\n",
       "      <td>0.500000</td>\n",
       "      <td>0.500000</td>\n",
       "    </tr>\n",
       "    <tr>\n",
       "      <th>tip_amount</th>\n",
       "      <td>95764.0</td>\n",
       "      <td>2.806160</td>\n",
       "      <td>3.008967</td>\n",
       "      <td>0.000000</td>\n",
       "      <td>0.000000</td>\n",
       "      <td>0.000000</td>\n",
       "      <td>0.000000</td>\n",
       "      <td>0.000000</td>\n",
       "      <td>0.00</td>\n",
       "      <td>0.000000</td>\n",
       "      <td>1.00</td>\n",
       "      <td>2.20</td>\n",
       "      <td>3.460000</td>\n",
       "      <td>6.080000</td>\n",
       "      <td>10.000000</td>\n",
       "      <td>11.020000</td>\n",
       "      <td>12.3500</td>\n",
       "      <td>12.620000</td>\n",
       "      <td>15.000000</td>\n",
       "      <td>15.000000</td>\n",
       "    </tr>\n",
       "    <tr>\n",
       "      <th>tolls_amount</th>\n",
       "      <td>95764.0</td>\n",
       "      <td>0.562748</td>\n",
       "      <td>1.833111</td>\n",
       "      <td>0.000000</td>\n",
       "      <td>0.000000</td>\n",
       "      <td>0.000000</td>\n",
       "      <td>0.000000</td>\n",
       "      <td>0.000000</td>\n",
       "      <td>0.00</td>\n",
       "      <td>0.000000</td>\n",
       "      <td>0.00</td>\n",
       "      <td>0.00</td>\n",
       "      <td>0.000000</td>\n",
       "      <td>0.000000</td>\n",
       "      <td>6.550000</td>\n",
       "      <td>6.550000</td>\n",
       "      <td>6.5500</td>\n",
       "      <td>6.550000</td>\n",
       "      <td>6.550000</td>\n",
       "      <td>6.550000</td>\n",
       "    </tr>\n",
       "    <tr>\n",
       "      <th>total_amount</th>\n",
       "      <td>95764.0</td>\n",
       "      <td>22.410599</td>\n",
       "      <td>16.588757</td>\n",
       "      <td>6.800000</td>\n",
       "      <td>6.800000</td>\n",
       "      <td>7.800000</td>\n",
       "      <td>8.300000</td>\n",
       "      <td>8.800000</td>\n",
       "      <td>8.97</td>\n",
       "      <td>10.143000</td>\n",
       "      <td>12.36</td>\n",
       "      <td>16.55</td>\n",
       "      <td>24.000000</td>\n",
       "      <td>47.220000</td>\n",
       "      <td>66.350000</td>\n",
       "      <td>69.850000</td>\n",
       "      <td>74.2200</td>\n",
       "      <td>75.720000</td>\n",
       "      <td>81.120000</td>\n",
       "      <td>81.120000</td>\n",
       "    </tr>\n",
       "    <tr>\n",
       "      <th>congestion_surcharge</th>\n",
       "      <td>95764.0</td>\n",
       "      <td>2.297915</td>\n",
       "      <td>0.681454</td>\n",
       "      <td>0.000000</td>\n",
       "      <td>0.000000</td>\n",
       "      <td>0.000000</td>\n",
       "      <td>0.000000</td>\n",
       "      <td>0.000000</td>\n",
       "      <td>0.00</td>\n",
       "      <td>2.500000</td>\n",
       "      <td>2.50</td>\n",
       "      <td>2.50</td>\n",
       "      <td>2.500000</td>\n",
       "      <td>2.500000</td>\n",
       "      <td>2.500000</td>\n",
       "      <td>2.500000</td>\n",
       "      <td>2.5000</td>\n",
       "      <td>2.500000</td>\n",
       "      <td>2.500000</td>\n",
       "      <td>2.500000</td>\n",
       "    </tr>\n",
       "    <tr>\n",
       "      <th>airport_fee</th>\n",
       "      <td>95764.0</td>\n",
       "      <td>0.111172</td>\n",
       "      <td>0.355819</td>\n",
       "      <td>0.000000</td>\n",
       "      <td>0.000000</td>\n",
       "      <td>0.000000</td>\n",
       "      <td>0.000000</td>\n",
       "      <td>0.000000</td>\n",
       "      <td>0.00</td>\n",
       "      <td>0.000000</td>\n",
       "      <td>0.00</td>\n",
       "      <td>0.00</td>\n",
       "      <td>0.000000</td>\n",
       "      <td>0.000000</td>\n",
       "      <td>1.250000</td>\n",
       "      <td>1.250000</td>\n",
       "      <td>1.2500</td>\n",
       "      <td>1.250000</td>\n",
       "      <td>1.250000</td>\n",
       "      <td>1.250000</td>\n",
       "    </tr>\n",
       "    <tr>\n",
       "      <th>is_pu_do_location_same</th>\n",
       "      <td>95764.0</td>\n",
       "      <td>0.050468</td>\n",
       "      <td>0.218909</td>\n",
       "      <td>0.000000</td>\n",
       "      <td>0.000000</td>\n",
       "      <td>0.000000</td>\n",
       "      <td>0.000000</td>\n",
       "      <td>0.000000</td>\n",
       "      <td>0.00</td>\n",
       "      <td>0.000000</td>\n",
       "      <td>0.00</td>\n",
       "      <td>0.00</td>\n",
       "      <td>0.000000</td>\n",
       "      <td>0.000000</td>\n",
       "      <td>1.000000</td>\n",
       "      <td>1.000000</td>\n",
       "      <td>1.0000</td>\n",
       "      <td>1.000000</td>\n",
       "      <td>1.000000</td>\n",
       "      <td>1.000000</td>\n",
       "    </tr>\n",
       "    <tr>\n",
       "      <th>year</th>\n",
       "      <td>95764.0</td>\n",
       "      <td>2022.000000</td>\n",
       "      <td>0.000000</td>\n",
       "      <td>2022.000000</td>\n",
       "      <td>2022.000000</td>\n",
       "      <td>2022.000000</td>\n",
       "      <td>2022.000000</td>\n",
       "      <td>2022.000000</td>\n",
       "      <td>2022.00</td>\n",
       "      <td>2022.000000</td>\n",
       "      <td>2022.00</td>\n",
       "      <td>2022.00</td>\n",
       "      <td>2022.000000</td>\n",
       "      <td>2022.000000</td>\n",
       "      <td>2022.000000</td>\n",
       "      <td>2022.000000</td>\n",
       "      <td>2022.0000</td>\n",
       "      <td>2022.000000</td>\n",
       "      <td>2022.000000</td>\n",
       "      <td>2022.000000</td>\n",
       "    </tr>\n",
       "    <tr>\n",
       "      <th>month</th>\n",
       "      <td>95764.0</td>\n",
       "      <td>9.000000</td>\n",
       "      <td>0.000000</td>\n",
       "      <td>9.000000</td>\n",
       "      <td>9.000000</td>\n",
       "      <td>9.000000</td>\n",
       "      <td>9.000000</td>\n",
       "      <td>9.000000</td>\n",
       "      <td>9.00</td>\n",
       "      <td>9.000000</td>\n",
       "      <td>9.00</td>\n",
       "      <td>9.00</td>\n",
       "      <td>9.000000</td>\n",
       "      <td>9.000000</td>\n",
       "      <td>9.000000</td>\n",
       "      <td>9.000000</td>\n",
       "      <td>9.0000</td>\n",
       "      <td>9.000000</td>\n",
       "      <td>9.000000</td>\n",
       "      <td>9.000000</td>\n",
       "    </tr>\n",
       "    <tr>\n",
       "      <th>day</th>\n",
       "      <td>95764.0</td>\n",
       "      <td>2.900746</td>\n",
       "      <td>1.819473</td>\n",
       "      <td>0.000000</td>\n",
       "      <td>0.000000</td>\n",
       "      <td>0.000000</td>\n",
       "      <td>0.000000</td>\n",
       "      <td>0.000000</td>\n",
       "      <td>0.00</td>\n",
       "      <td>0.000000</td>\n",
       "      <td>1.00</td>\n",
       "      <td>3.00</td>\n",
       "      <td>4.000000</td>\n",
       "      <td>5.000000</td>\n",
       "      <td>6.000000</td>\n",
       "      <td>6.000000</td>\n",
       "      <td>6.0000</td>\n",
       "      <td>6.000000</td>\n",
       "      <td>6.000000</td>\n",
       "      <td>6.000000</td>\n",
       "    </tr>\n",
       "    <tr>\n",
       "      <th>hour</th>\n",
       "      <td>95764.0</td>\n",
       "      <td>14.168268</td>\n",
       "      <td>5.830213</td>\n",
       "      <td>0.000000</td>\n",
       "      <td>0.000000</td>\n",
       "      <td>0.000000</td>\n",
       "      <td>1.000000</td>\n",
       "      <td>1.000000</td>\n",
       "      <td>2.00</td>\n",
       "      <td>7.000000</td>\n",
       "      <td>10.00</td>\n",
       "      <td>15.00</td>\n",
       "      <td>19.000000</td>\n",
       "      <td>21.000000</td>\n",
       "      <td>22.000000</td>\n",
       "      <td>23.000000</td>\n",
       "      <td>23.0000</td>\n",
       "      <td>23.000000</td>\n",
       "      <td>23.000000</td>\n",
       "      <td>23.000000</td>\n",
       "    </tr>\n",
       "    <tr>\n",
       "      <th>minute</th>\n",
       "      <td>95764.0</td>\n",
       "      <td>29.503937</td>\n",
       "      <td>17.313527</td>\n",
       "      <td>0.000000</td>\n",
       "      <td>0.000000</td>\n",
       "      <td>1.000000</td>\n",
       "      <td>1.000000</td>\n",
       "      <td>2.000000</td>\n",
       "      <td>2.00</td>\n",
       "      <td>6.000000</td>\n",
       "      <td>14.00</td>\n",
       "      <td>29.00</td>\n",
       "      <td>45.000000</td>\n",
       "      <td>53.000000</td>\n",
       "      <td>56.000000</td>\n",
       "      <td>57.000000</td>\n",
       "      <td>58.0000</td>\n",
       "      <td>58.000000</td>\n",
       "      <td>59.000000</td>\n",
       "      <td>59.000000</td>\n",
       "    </tr>\n",
       "    <tr>\n",
       "      <th>day_month</th>\n",
       "      <td>95764.0</td>\n",
       "      <td>15.723550</td>\n",
       "      <td>8.790978</td>\n",
       "      <td>1.000000</td>\n",
       "      <td>1.000000</td>\n",
       "      <td>1.000000</td>\n",
       "      <td>1.000000</td>\n",
       "      <td>2.000000</td>\n",
       "      <td>2.00</td>\n",
       "      <td>4.000000</td>\n",
       "      <td>8.00</td>\n",
       "      <td>15.00</td>\n",
       "      <td>24.000000</td>\n",
       "      <td>28.000000</td>\n",
       "      <td>29.000000</td>\n",
       "      <td>29.000000</td>\n",
       "      <td>30.0000</td>\n",
       "      <td>30.000000</td>\n",
       "      <td>30.000000</td>\n",
       "      <td>30.000000</td>\n",
       "    </tr>\n",
       "    <tr>\n",
       "      <th>year_drop</th>\n",
       "      <td>95764.0</td>\n",
       "      <td>2022.000000</td>\n",
       "      <td>0.000000</td>\n",
       "      <td>2022.000000</td>\n",
       "      <td>2022.000000</td>\n",
       "      <td>2022.000000</td>\n",
       "      <td>2022.000000</td>\n",
       "      <td>2022.000000</td>\n",
       "      <td>2022.00</td>\n",
       "      <td>2022.000000</td>\n",
       "      <td>2022.00</td>\n",
       "      <td>2022.00</td>\n",
       "      <td>2022.000000</td>\n",
       "      <td>2022.000000</td>\n",
       "      <td>2022.000000</td>\n",
       "      <td>2022.000000</td>\n",
       "      <td>2022.0000</td>\n",
       "      <td>2022.000000</td>\n",
       "      <td>2022.000000</td>\n",
       "      <td>2022.000000</td>\n",
       "    </tr>\n",
       "    <tr>\n",
       "      <th>month_drop</th>\n",
       "      <td>95764.0</td>\n",
       "      <td>9.000000</td>\n",
       "      <td>0.000000</td>\n",
       "      <td>9.000000</td>\n",
       "      <td>9.000000</td>\n",
       "      <td>9.000000</td>\n",
       "      <td>9.000000</td>\n",
       "      <td>9.000000</td>\n",
       "      <td>9.00</td>\n",
       "      <td>9.000000</td>\n",
       "      <td>9.00</td>\n",
       "      <td>9.00</td>\n",
       "      <td>9.000000</td>\n",
       "      <td>9.000000</td>\n",
       "      <td>9.000000</td>\n",
       "      <td>9.000000</td>\n",
       "      <td>9.0000</td>\n",
       "      <td>9.000000</td>\n",
       "      <td>9.000000</td>\n",
       "      <td>9.000000</td>\n",
       "    </tr>\n",
       "    <tr>\n",
       "      <th>day_drop</th>\n",
       "      <td>95764.0</td>\n",
       "      <td>2.905674</td>\n",
       "      <td>1.821324</td>\n",
       "      <td>0.000000</td>\n",
       "      <td>0.000000</td>\n",
       "      <td>0.000000</td>\n",
       "      <td>0.000000</td>\n",
       "      <td>0.000000</td>\n",
       "      <td>0.00</td>\n",
       "      <td>0.000000</td>\n",
       "      <td>1.00</td>\n",
       "      <td>3.00</td>\n",
       "      <td>4.000000</td>\n",
       "      <td>5.000000</td>\n",
       "      <td>6.000000</td>\n",
       "      <td>6.000000</td>\n",
       "      <td>6.0000</td>\n",
       "      <td>6.000000</td>\n",
       "      <td>6.000000</td>\n",
       "      <td>6.000000</td>\n",
       "    </tr>\n",
       "    <tr>\n",
       "      <th>hour_drop</th>\n",
       "      <td>95764.0</td>\n",
       "      <td>14.226442</td>\n",
       "      <td>5.942727</td>\n",
       "      <td>0.000000</td>\n",
       "      <td>0.000000</td>\n",
       "      <td>0.000000</td>\n",
       "      <td>0.000000</td>\n",
       "      <td>1.000000</td>\n",
       "      <td>1.00</td>\n",
       "      <td>6.000000</td>\n",
       "      <td>10.00</td>\n",
       "      <td>15.00</td>\n",
       "      <td>19.000000</td>\n",
       "      <td>21.000000</td>\n",
       "      <td>22.000000</td>\n",
       "      <td>23.000000</td>\n",
       "      <td>23.0000</td>\n",
       "      <td>23.000000</td>\n",
       "      <td>23.000000</td>\n",
       "      <td>23.000000</td>\n",
       "    </tr>\n",
       "    <tr>\n",
       "      <th>minute_drop</th>\n",
       "      <td>95764.0</td>\n",
       "      <td>29.516415</td>\n",
       "      <td>17.341222</td>\n",
       "      <td>0.000000</td>\n",
       "      <td>0.000000</td>\n",
       "      <td>1.000000</td>\n",
       "      <td>1.000000</td>\n",
       "      <td>2.000000</td>\n",
       "      <td>2.00</td>\n",
       "      <td>5.000000</td>\n",
       "      <td>14.00</td>\n",
       "      <td>30.00</td>\n",
       "      <td>45.000000</td>\n",
       "      <td>54.000000</td>\n",
       "      <td>57.000000</td>\n",
       "      <td>57.000000</td>\n",
       "      <td>58.0000</td>\n",
       "      <td>58.000000</td>\n",
       "      <td>59.000000</td>\n",
       "      <td>59.000000</td>\n",
       "    </tr>\n",
       "    <tr>\n",
       "      <th>day_month_drop</th>\n",
       "      <td>95764.0</td>\n",
       "      <td>15.718997</td>\n",
       "      <td>8.790943</td>\n",
       "      <td>1.000000</td>\n",
       "      <td>1.000000</td>\n",
       "      <td>1.000000</td>\n",
       "      <td>1.000000</td>\n",
       "      <td>2.000000</td>\n",
       "      <td>2.00</td>\n",
       "      <td>4.000000</td>\n",
       "      <td>8.00</td>\n",
       "      <td>15.00</td>\n",
       "      <td>24.000000</td>\n",
       "      <td>28.000000</td>\n",
       "      <td>29.000000</td>\n",
       "      <td>29.000000</td>\n",
       "      <td>30.0000</td>\n",
       "      <td>30.000000</td>\n",
       "      <td>30.000000</td>\n",
       "      <td>30.000000</td>\n",
       "    </tr>\n",
       "    <tr>\n",
       "      <th>duration</th>\n",
       "      <td>95764.0</td>\n",
       "      <td>17.021840</td>\n",
       "      <td>13.666625</td>\n",
       "      <td>0.377167</td>\n",
       "      <td>0.381052</td>\n",
       "      <td>1.966667</td>\n",
       "      <td>2.633333</td>\n",
       "      <td>3.083333</td>\n",
       "      <td>3.45</td>\n",
       "      <td>4.833333</td>\n",
       "      <td>7.85</td>\n",
       "      <td>13.10</td>\n",
       "      <td>21.516667</td>\n",
       "      <td>34.383333</td>\n",
       "      <td>45.766667</td>\n",
       "      <td>49.882667</td>\n",
       "      <td>54.9685</td>\n",
       "      <td>61.862333</td>\n",
       "      <td>73.266667</td>\n",
       "      <td>73.266667</td>\n",
       "    </tr>\n",
       "    <tr>\n",
       "      <th>is_weekend</th>\n",
       "      <td>95764.0</td>\n",
       "      <td>0.211802</td>\n",
       "      <td>0.408587</td>\n",
       "      <td>0.000000</td>\n",
       "      <td>0.000000</td>\n",
       "      <td>0.000000</td>\n",
       "      <td>0.000000</td>\n",
       "      <td>0.000000</td>\n",
       "      <td>0.00</td>\n",
       "      <td>0.000000</td>\n",
       "      <td>0.00</td>\n",
       "      <td>0.00</td>\n",
       "      <td>0.000000</td>\n",
       "      <td>1.000000</td>\n",
       "      <td>1.000000</td>\n",
       "      <td>1.000000</td>\n",
       "      <td>1.0000</td>\n",
       "      <td>1.000000</td>\n",
       "      <td>1.000000</td>\n",
       "      <td>1.000000</td>\n",
       "    </tr>\n",
       "  </tbody>\n",
       "</table>\n",
       "</div>"
      ],
      "text/plain": [
       "                          count         mean        std          min  \\\n",
       "passenger_count         95764.0     1.383213   0.934299     0.000000   \n",
       "trip_distance           95764.0     3.632448   4.480781     0.000000   \n",
       "fare_amount             95764.0    15.396023  13.013515     3.500000   \n",
       "extra                   95764.0     1.039663   1.226176     0.000000   \n",
       "mta_tax                 95764.0     0.493646   0.056007     0.000000   \n",
       "tip_amount              95764.0     2.806160   3.008967     0.000000   \n",
       "tolls_amount            95764.0     0.562748   1.833111     0.000000   \n",
       "total_amount            95764.0    22.410599  16.588757     6.800000   \n",
       "congestion_surcharge    95764.0     2.297915   0.681454     0.000000   \n",
       "airport_fee             95764.0     0.111172   0.355819     0.000000   \n",
       "is_pu_do_location_same  95764.0     0.050468   0.218909     0.000000   \n",
       "year                    95764.0  2022.000000   0.000000  2022.000000   \n",
       "month                   95764.0     9.000000   0.000000     9.000000   \n",
       "day                     95764.0     2.900746   1.819473     0.000000   \n",
       "hour                    95764.0    14.168268   5.830213     0.000000   \n",
       "minute                  95764.0    29.503937  17.313527     0.000000   \n",
       "day_month               95764.0    15.723550   8.790978     1.000000   \n",
       "year_drop               95764.0  2022.000000   0.000000  2022.000000   \n",
       "month_drop              95764.0     9.000000   0.000000     9.000000   \n",
       "day_drop                95764.0     2.905674   1.821324     0.000000   \n",
       "hour_drop               95764.0    14.226442   5.942727     0.000000   \n",
       "minute_drop             95764.0    29.516415  17.341222     0.000000   \n",
       "day_month_drop          95764.0    15.718997   8.790943     1.000000   \n",
       "duration                95764.0    17.021840  13.666625     0.377167   \n",
       "is_weekend              95764.0     0.211802   0.408587     0.000000   \n",
       "\n",
       "                                 1%           2%           3%           4%  \\\n",
       "passenger_count            0.000000     1.000000     1.000000     1.000000   \n",
       "trip_distance              0.000000     0.200000     0.380000     0.460000   \n",
       "fare_amount                3.500000     4.000000     4.000000     4.500000   \n",
       "extra                      0.000000     0.000000     0.000000     0.000000   \n",
       "mta_tax                    0.000000     0.500000     0.500000     0.500000   \n",
       "tip_amount                 0.000000     0.000000     0.000000     0.000000   \n",
       "tolls_amount               0.000000     0.000000     0.000000     0.000000   \n",
       "total_amount               6.800000     7.800000     8.300000     8.800000   \n",
       "congestion_surcharge       0.000000     0.000000     0.000000     0.000000   \n",
       "airport_fee                0.000000     0.000000     0.000000     0.000000   \n",
       "is_pu_do_location_same     0.000000     0.000000     0.000000     0.000000   \n",
       "year                    2022.000000  2022.000000  2022.000000  2022.000000   \n",
       "month                      9.000000     9.000000     9.000000     9.000000   \n",
       "day                        0.000000     0.000000     0.000000     0.000000   \n",
       "hour                       0.000000     0.000000     1.000000     1.000000   \n",
       "minute                     0.000000     1.000000     1.000000     2.000000   \n",
       "day_month                  1.000000     1.000000     1.000000     2.000000   \n",
       "year_drop               2022.000000  2022.000000  2022.000000  2022.000000   \n",
       "month_drop                 9.000000     9.000000     9.000000     9.000000   \n",
       "day_drop                   0.000000     0.000000     0.000000     0.000000   \n",
       "hour_drop                  0.000000     0.000000     0.000000     1.000000   \n",
       "minute_drop                0.000000     1.000000     1.000000     2.000000   \n",
       "day_month_drop             1.000000     1.000000     1.000000     2.000000   \n",
       "duration                   0.381052     1.966667     2.633333     3.083333   \n",
       "is_weekend                 0.000000     0.000000     0.000000     0.000000   \n",
       "\n",
       "                             5%          10%      25%      50%          75%  \\\n",
       "passenger_count            1.00     1.000000     1.00     1.00     1.000000   \n",
       "trip_distance              0.50     0.700000     1.12     1.90     3.700000   \n",
       "fare_amount                4.50     5.500000     7.50    10.50    17.500000   \n",
       "extra                      0.00     0.000000     0.00     0.50     2.500000   \n",
       "mta_tax                    0.50     0.500000     0.50     0.50     0.500000   \n",
       "tip_amount                 0.00     0.000000     1.00     2.20     3.460000   \n",
       "tolls_amount               0.00     0.000000     0.00     0.00     0.000000   \n",
       "total_amount               8.97    10.143000    12.36    16.55    24.000000   \n",
       "congestion_surcharge       0.00     2.500000     2.50     2.50     2.500000   \n",
       "airport_fee                0.00     0.000000     0.00     0.00     0.000000   \n",
       "is_pu_do_location_same     0.00     0.000000     0.00     0.00     0.000000   \n",
       "year                    2022.00  2022.000000  2022.00  2022.00  2022.000000   \n",
       "month                      9.00     9.000000     9.00     9.00     9.000000   \n",
       "day                        0.00     0.000000     1.00     3.00     4.000000   \n",
       "hour                       2.00     7.000000    10.00    15.00    19.000000   \n",
       "minute                     2.00     6.000000    14.00    29.00    45.000000   \n",
       "day_month                  2.00     4.000000     8.00    15.00    24.000000   \n",
       "year_drop               2022.00  2022.000000  2022.00  2022.00  2022.000000   \n",
       "month_drop                 9.00     9.000000     9.00     9.00     9.000000   \n",
       "day_drop                   0.00     0.000000     1.00     3.00     4.000000   \n",
       "hour_drop                  1.00     6.000000    10.00    15.00    19.000000   \n",
       "minute_drop                2.00     5.000000    14.00    30.00    45.000000   \n",
       "day_month_drop             2.00     4.000000     8.00    15.00    24.000000   \n",
       "duration                   3.45     4.833333     7.85    13.10    21.516667   \n",
       "is_weekend                 0.00     0.000000     0.00     0.00     0.000000   \n",
       "\n",
       "                                90%          95%          96%        97%  \\\n",
       "passenger_count            2.000000     3.000000     4.000000     4.0000   \n",
       "trip_distance              9.700000    16.480000    17.430000    18.1000   \n",
       "fare_amount               34.000000    52.000000    52.000000    52.0000   \n",
       "extra                      3.000000     3.500000     3.500000     3.5000   \n",
       "mta_tax                    0.500000     0.500000     0.500000     0.5000   \n",
       "tip_amount                 6.080000    10.000000    11.020000    12.3500   \n",
       "tolls_amount               0.000000     6.550000     6.550000     6.5500   \n",
       "total_amount              47.220000    66.350000    69.850000    74.2200   \n",
       "congestion_surcharge       2.500000     2.500000     2.500000     2.5000   \n",
       "airport_fee                0.000000     1.250000     1.250000     1.2500   \n",
       "is_pu_do_location_same     0.000000     1.000000     1.000000     1.0000   \n",
       "year                    2022.000000  2022.000000  2022.000000  2022.0000   \n",
       "month                      9.000000     9.000000     9.000000     9.0000   \n",
       "day                        5.000000     6.000000     6.000000     6.0000   \n",
       "hour                      21.000000    22.000000    23.000000    23.0000   \n",
       "minute                    53.000000    56.000000    57.000000    58.0000   \n",
       "day_month                 28.000000    29.000000    29.000000    30.0000   \n",
       "year_drop               2022.000000  2022.000000  2022.000000  2022.0000   \n",
       "month_drop                 9.000000     9.000000     9.000000     9.0000   \n",
       "day_drop                   5.000000     6.000000     6.000000     6.0000   \n",
       "hour_drop                 21.000000    22.000000    23.000000    23.0000   \n",
       "minute_drop               54.000000    57.000000    57.000000    58.0000   \n",
       "day_month_drop            28.000000    29.000000    29.000000    30.0000   \n",
       "duration                  34.383333    45.766667    49.882667    54.9685   \n",
       "is_weekend                 1.000000     1.000000     1.000000     1.0000   \n",
       "\n",
       "                                98%          99%          max  \n",
       "passenger_count            5.000000     6.000000     6.000000  \n",
       "trip_distance             18.900000    20.530000    20.530000  \n",
       "fare_amount               52.000000    63.100000    63.100000  \n",
       "extra                      3.500000     4.250000     4.250000  \n",
       "mta_tax                    0.500000     0.500000     0.500000  \n",
       "tip_amount                12.620000    15.000000    15.000000  \n",
       "tolls_amount               6.550000     6.550000     6.550000  \n",
       "total_amount              75.720000    81.120000    81.120000  \n",
       "congestion_surcharge       2.500000     2.500000     2.500000  \n",
       "airport_fee                1.250000     1.250000     1.250000  \n",
       "is_pu_do_location_same     1.000000     1.000000     1.000000  \n",
       "year                    2022.000000  2022.000000  2022.000000  \n",
       "month                      9.000000     9.000000     9.000000  \n",
       "day                        6.000000     6.000000     6.000000  \n",
       "hour                      23.000000    23.000000    23.000000  \n",
       "minute                    58.000000    59.000000    59.000000  \n",
       "day_month                 30.000000    30.000000    30.000000  \n",
       "year_drop               2022.000000  2022.000000  2022.000000  \n",
       "month_drop                 9.000000     9.000000     9.000000  \n",
       "day_drop                   6.000000     6.000000     6.000000  \n",
       "hour_drop                 23.000000    23.000000    23.000000  \n",
       "minute_drop               58.000000    59.000000    59.000000  \n",
       "day_month_drop            30.000000    30.000000    30.000000  \n",
       "duration                  61.862333    73.266667    73.266667  \n",
       "is_weekend                 1.000000     1.000000     1.000000  "
      ]
     },
     "execution_count": 69,
     "metadata": {},
     "output_type": "execute_result"
    }
   ],
   "source": [
    "num_data0.describe(percentiles=[.01,.02,.03,.04,.05,.1,.25,.5,.75,.9,.95,.96,.97,.98,.99]).T"
   ]
  },
  {
   "cell_type": "markdown",
   "id": "d1ea26be",
   "metadata": {},
   "source": [
    "### Now i can see above there are no outliers"
   ]
  },
  {
   "cell_type": "code",
   "execution_count": 70,
   "id": "f8976ae7",
   "metadata": {},
   "outputs": [
    {
     "data": {
      "text/plain": [
       "(95764, 35)"
      ]
     },
     "execution_count": 70,
     "metadata": {},
     "output_type": "execute_result"
    }
   ],
   "source": [
    "all_df=pd.concat([obj_data, num_data0], axis=1)\n",
    "all_df.shape"
   ]
  },
  {
   "cell_type": "code",
   "execution_count": 71,
   "id": "dee4ad79",
   "metadata": {},
   "outputs": [],
   "source": [
    "all_df.drop(columns=[\"time\", \"time_drop\"], inplace=True)"
   ]
  },
  {
   "cell_type": "markdown",
   "id": "9687f685",
   "metadata": {},
   "source": [
    "###### I have droped time and time_drop columns because i already createsd new columns "
   ]
  },
  {
   "cell_type": "code",
   "execution_count": 72,
   "id": "c9fd48b2",
   "metadata": {},
   "outputs": [
    {
     "data": {
      "text/plain": [
       "(95764, 33)"
      ]
     },
     "execution_count": 72,
     "metadata": {},
     "output_type": "execute_result"
    }
   ],
   "source": [
    "all_df.shape"
   ]
  },
  {
   "cell_type": "markdown",
   "id": "1d8610a2",
   "metadata": {},
   "source": [
    "## Now i am applying dummies for model selection "
   ]
  },
  {
   "cell_type": "code",
   "execution_count": 73,
   "id": "d982ef28",
   "metadata": {},
   "outputs": [],
   "source": [
    "all_df=pd.get_dummies(all_df, drop_first=True)"
   ]
  },
  {
   "cell_type": "code",
   "execution_count": 74,
   "id": "6eff5f46",
   "metadata": {},
   "outputs": [
    {
     "data": {
      "text/plain": [
       "(95764, 46)"
      ]
     },
     "execution_count": 74,
     "metadata": {},
     "output_type": "execute_result"
    }
   ],
   "source": [
    "all_df.shape"
   ]
  },
  {
   "cell_type": "code",
   "execution_count": 75,
   "id": "7a04183a",
   "metadata": {},
   "outputs": [
    {
     "data": {
      "text/plain": [
       "['passenger_count',\n",
       " 'trip_distance',\n",
       " 'fare_amount',\n",
       " 'extra',\n",
       " 'mta_tax',\n",
       " 'tip_amount',\n",
       " 'tolls_amount',\n",
       " 'total_amount',\n",
       " 'congestion_surcharge',\n",
       " 'airport_fee',\n",
       " 'is_pu_do_location_same',\n",
       " 'year',\n",
       " 'month',\n",
       " 'day',\n",
       " 'hour',\n",
       " 'minute',\n",
       " 'day_month',\n",
       " 'year_drop',\n",
       " 'month_drop',\n",
       " 'day_drop',\n",
       " 'hour_drop',\n",
       " 'minute_drop',\n",
       " 'day_month_drop',\n",
       " 'duration',\n",
       " 'is_weekend',\n",
       " 'VendorID_Verifone',\n",
       " 'RatecodeID_Nassau',\n",
       " 'RatecodeID_Negotiated_fare',\n",
       " 'RatecodeID_Newark',\n",
       " 'RatecodeID_Standard_rate',\n",
       " 'store_and_fwd_flag_Y',\n",
       " 'payment_type_cc',\n",
       " 'payment_type_dispute',\n",
       " 'payment_type_no_charge',\n",
       " 'passenger_cat_Two_passeneger',\n",
       " 'passenger_cat_no_or_one_passenger',\n",
       " 'length_duration_medium_time_trip',\n",
       " 'length_duration_short_trip',\n",
       " 'length_duration_very_long_time_trip',\n",
       " 'hour_trip_afternoo_trip',\n",
       " 'hour_trip_early_morning_trip',\n",
       " 'hour_trip_evening_office_trip',\n",
       " 'hour_trip_morning_office_trip',\n",
       " 'hour_trip_night_trip',\n",
       " 'month_cat_mid_of_month',\n",
       " 'month_cat_start_of_month']"
      ]
     },
     "execution_count": 75,
     "metadata": {},
     "output_type": "execute_result"
    }
   ],
   "source": [
    "all_df.columns.to_list()"
   ]
  },
  {
   "cell_type": "code",
   "execution_count": 76,
   "id": "8990f476",
   "metadata": {},
   "outputs": [
    {
     "data": {
      "image/png": "[encoded data removed]",
      "text/plain": [
       "<Figure size 1500x1200 with 2 Axes>"
      ]
     },
     "metadata": {},
     "output_type": "display_data"
    }
   ],
   "source": [
    "plt.figure(figsize=(15,12))\n",
    "cr=all_df.corr()\n",
    "cr=cr[abs(cr)>.7]\n",
    "sns.heatmap(cr, cmap=\"YlGnBu\", annot=True)\n",
    "plt.show()"
   ]
  },
  {
   "cell_type": "code",
   "execution_count": 77,
   "id": "65c1eb92",
   "metadata": {},
   "outputs": [],
   "source": [
    "y=all_df[\"total_amount\"]\n",
    "x=all_df.drop(columns=[\"total_amount\", \"fare_amount\"])"
   ]
  },
  {
   "cell_type": "markdown",
   "id": "06a94d2f",
   "metadata": {},
   "source": [
    "## Now we can apply model for resgressor problem"
   ]
  },
  {
   "cell_type": "code",
   "execution_count": 78,
   "id": "be80caae",
   "metadata": {},
   "outputs": [],
   "source": [
    "from sklearn.model_selection import train_test_split\n",
    "from sklearn.ensemble import RandomForestRegressor"
   ]
  },
  {
   "cell_type": "code",
   "execution_count": 79,
   "id": "02c02daf",
   "metadata": {},
   "outputs": [],
   "source": [
    "x_train,x_test, y_train,y_test=train_test_split(x,y, test_size=.3, random_state=0)"
   ]
  },
  {
   "cell_type": "code",
   "execution_count": 80,
   "id": "f9afdf12",
   "metadata": {},
   "outputs": [
    {
     "data": {
      "text/plain": [
       "RandomForestRegressor()"
      ]
     },
     "execution_count": 80,
     "metadata": {},
     "output_type": "execute_result"
    }
   ],
   "source": [
    "rf=RandomForestRegressor()\n",
    "rf.fit(x_train, y_train)"
   ]
  },
  {
   "cell_type": "code",
   "execution_count": 81,
   "id": "79c8ada2",
   "metadata": {},
   "outputs": [
    {
     "name": "stdout",
     "output_type": "stream",
     "text": [
      "train_score 0.9970610776860832\n",
      "test_score 0.9817868206338931\n"
     ]
    }
   ],
   "source": [
    "print(\"train_score\", rf.score(x_train, y_train))\n",
    "print(\"test_score\", rf.score(x_test, y_test)) "
   ]
  },
  {
   "cell_type": "markdown",
   "id": "da4e43ae",
   "metadata": {},
   "source": [
    "## We got Train_score 0.99% and Test score 0.98% , I think this is best score for our model."
   ]
  },
  {
   "cell_type": "code",
   "execution_count": 82,
   "id": "f1560f39",
   "metadata": {},
   "outputs": [],
   "source": [
    "variable_imp=pd.DataFrame({\"Var\": x_train.columns, \"imp\":rf.feature_importances_}).sort_values(by=\"imp\", ascending=False)"
   ]
  },
  {
   "cell_type": "code",
   "execution_count": 83,
   "id": "2e0bc7da",
   "metadata": {},
   "outputs": [
    {
     "data": {
      "text/html": [
       "<div>\n",
       "<style scoped>\n",
       "    .dataframe tbody tr th:only-of-type {\n",
       "        vertical-align: middle;\n",
       "    }\n",
       "\n",
       "    .dataframe tbody tr th {\n",
       "        vertical-align: top;\n",
       "    }\n",
       "\n",
       "    .dataframe thead th {\n",
       "        text-align: right;\n",
       "    }\n",
       "</style>\n",
       "<table border=\"1\" class=\"dataframe\">\n",
       "  <thead>\n",
       "    <tr style=\"text-align: right;\">\n",
       "      <th></th>\n",
       "      <th>Var</th>\n",
       "      <th>imp</th>\n",
       "    </tr>\n",
       "  </thead>\n",
       "  <tbody>\n",
       "    <tr>\n",
       "      <th>1</th>\n",
       "      <td>trip_distance</td>\n",
       "      <td>0.735533</td>\n",
       "    </tr>\n",
       "    <tr>\n",
       "      <th>4</th>\n",
       "      <td>tip_amount</td>\n",
       "      <td>0.122544</td>\n",
       "    </tr>\n",
       "    <tr>\n",
       "      <th>21</th>\n",
       "      <td>duration</td>\n",
       "      <td>0.061178</td>\n",
       "    </tr>\n",
       "    <tr>\n",
       "      <th>27</th>\n",
       "      <td>RatecodeID_Standard_rate</td>\n",
       "      <td>0.053931</td>\n",
       "    </tr>\n",
       "    <tr>\n",
       "      <th>5</th>\n",
       "      <td>tolls_amount</td>\n",
       "      <td>0.007776</td>\n",
       "    </tr>\n",
       "    <tr>\n",
       "      <th>3</th>\n",
       "      <td>mta_tax</td>\n",
       "      <td>0.001966</td>\n",
       "    </tr>\n",
       "    <tr>\n",
       "      <th>19</th>\n",
       "      <td>minute_drop</td>\n",
       "      <td>0.001541</td>\n",
       "    </tr>\n",
       "    <tr>\n",
       "      <th>25</th>\n",
       "      <td>RatecodeID_Negotiated_fare</td>\n",
       "      <td>0.001343</td>\n",
       "    </tr>\n",
       "    <tr>\n",
       "      <th>13</th>\n",
       "      <td>minute</td>\n",
       "      <td>0.001335</td>\n",
       "    </tr>\n",
       "    <tr>\n",
       "      <th>23</th>\n",
       "      <td>VendorID_Verifone</td>\n",
       "      <td>0.001275</td>\n",
       "    </tr>\n",
       "    <tr>\n",
       "      <th>18</th>\n",
       "      <td>hour_drop</td>\n",
       "      <td>0.001252</td>\n",
       "    </tr>\n",
       "    <tr>\n",
       "      <th>12</th>\n",
       "      <td>hour</td>\n",
       "      <td>0.001175</td>\n",
       "    </tr>\n",
       "    <tr>\n",
       "      <th>2</th>\n",
       "      <td>extra</td>\n",
       "      <td>0.000918</td>\n",
       "    </tr>\n",
       "    <tr>\n",
       "      <th>20</th>\n",
       "      <td>day_month_drop</td>\n",
       "      <td>0.000847</td>\n",
       "    </tr>\n",
       "    <tr>\n",
       "      <th>14</th>\n",
       "      <td>day_month</td>\n",
       "      <td>0.000833</td>\n",
       "    </tr>\n",
       "    <tr>\n",
       "      <th>6</th>\n",
       "      <td>congestion_surcharge</td>\n",
       "      <td>0.000795</td>\n",
       "    </tr>\n",
       "    <tr>\n",
       "      <th>26</th>\n",
       "      <td>RatecodeID_Newark</td>\n",
       "      <td>0.000720</td>\n",
       "    </tr>\n",
       "    <tr>\n",
       "      <th>29</th>\n",
       "      <td>payment_type_cc</td>\n",
       "      <td>0.000575</td>\n",
       "    </tr>\n",
       "    <tr>\n",
       "      <th>17</th>\n",
       "      <td>day_drop</td>\n",
       "      <td>0.000494</td>\n",
       "    </tr>\n",
       "    <tr>\n",
       "      <th>11</th>\n",
       "      <td>day</td>\n",
       "      <td>0.000492</td>\n",
       "    </tr>\n",
       "    <tr>\n",
       "      <th>0</th>\n",
       "      <td>passenger_count</td>\n",
       "      <td>0.000397</td>\n",
       "    </tr>\n",
       "    <tr>\n",
       "      <th>7</th>\n",
       "      <td>airport_fee</td>\n",
       "      <td>0.000323</td>\n",
       "    </tr>\n",
       "    <tr>\n",
       "      <th>24</th>\n",
       "      <td>RatecodeID_Nassau</td>\n",
       "      <td>0.000276</td>\n",
       "    </tr>\n",
       "    <tr>\n",
       "      <th>39</th>\n",
       "      <td>hour_trip_evening_office_trip</td>\n",
       "      <td>0.000267</td>\n",
       "    </tr>\n",
       "    <tr>\n",
       "      <th>32</th>\n",
       "      <td>passenger_cat_Two_passeneger</td>\n",
       "      <td>0.000253</td>\n",
       "    </tr>\n",
       "    <tr>\n",
       "      <th>35</th>\n",
       "      <td>length_duration_short_trip</td>\n",
       "      <td>0.000226</td>\n",
       "    </tr>\n",
       "    <tr>\n",
       "      <th>42</th>\n",
       "      <td>month_cat_mid_of_month</td>\n",
       "      <td>0.000210</td>\n",
       "    </tr>\n",
       "    <tr>\n",
       "      <th>30</th>\n",
       "      <td>payment_type_dispute</td>\n",
       "      <td>0.000170</td>\n",
       "    </tr>\n",
       "    <tr>\n",
       "      <th>40</th>\n",
       "      <td>hour_trip_morning_office_trip</td>\n",
       "      <td>0.000169</td>\n",
       "    </tr>\n",
       "    <tr>\n",
       "      <th>41</th>\n",
       "      <td>hour_trip_night_trip</td>\n",
       "      <td>0.000166</td>\n",
       "    </tr>\n",
       "    <tr>\n",
       "      <th>8</th>\n",
       "      <td>is_pu_do_location_same</td>\n",
       "      <td>0.000150</td>\n",
       "    </tr>\n",
       "    <tr>\n",
       "      <th>33</th>\n",
       "      <td>passenger_cat_no_or_one_passenger</td>\n",
       "      <td>0.000133</td>\n",
       "    </tr>\n",
       "    <tr>\n",
       "      <th>36</th>\n",
       "      <td>length_duration_very_long_time_trip</td>\n",
       "      <td>0.000130</td>\n",
       "    </tr>\n",
       "    <tr>\n",
       "      <th>37</th>\n",
       "      <td>hour_trip_afternoo_trip</td>\n",
       "      <td>0.000122</td>\n",
       "    </tr>\n",
       "    <tr>\n",
       "      <th>28</th>\n",
       "      <td>store_and_fwd_flag_Y</td>\n",
       "      <td>0.000116</td>\n",
       "    </tr>\n",
       "    <tr>\n",
       "      <th>31</th>\n",
       "      <td>payment_type_no_charge</td>\n",
       "      <td>0.000108</td>\n",
       "    </tr>\n",
       "    <tr>\n",
       "      <th>38</th>\n",
       "      <td>hour_trip_early_morning_trip</td>\n",
       "      <td>0.000080</td>\n",
       "    </tr>\n",
       "    <tr>\n",
       "      <th>43</th>\n",
       "      <td>month_cat_start_of_month</td>\n",
       "      <td>0.000071</td>\n",
       "    </tr>\n",
       "    <tr>\n",
       "      <th>22</th>\n",
       "      <td>is_weekend</td>\n",
       "      <td>0.000064</td>\n",
       "    </tr>\n",
       "    <tr>\n",
       "      <th>34</th>\n",
       "      <td>length_duration_medium_time_trip</td>\n",
       "      <td>0.000046</td>\n",
       "    </tr>\n",
       "    <tr>\n",
       "      <th>16</th>\n",
       "      <td>month_drop</td>\n",
       "      <td>0.000000</td>\n",
       "    </tr>\n",
       "    <tr>\n",
       "      <th>15</th>\n",
       "      <td>year_drop</td>\n",
       "      <td>0.000000</td>\n",
       "    </tr>\n",
       "    <tr>\n",
       "      <th>10</th>\n",
       "      <td>month</td>\n",
       "      <td>0.000000</td>\n",
       "    </tr>\n",
       "    <tr>\n",
       "      <th>9</th>\n",
       "      <td>year</td>\n",
       "      <td>0.000000</td>\n",
       "    </tr>\n",
       "  </tbody>\n",
       "</table>\n",
       "</div>"
      ],
      "text/plain": [
       "                                    Var       imp\n",
       "1                         trip_distance  0.735533\n",
       "4                            tip_amount  0.122544\n",
       "21                             duration  0.061178\n",
       "27             RatecodeID_Standard_rate  0.053931\n",
       "5                          tolls_amount  0.007776\n",
       "3                               mta_tax  0.001966\n",
       "19                          minute_drop  0.001541\n",
       "25           RatecodeID_Negotiated_fare  0.001343\n",
       "13                               minute  0.001335\n",
       "23                    VendorID_Verifone  0.001275\n",
       "18                            hour_drop  0.001252\n",
       "12                                 hour  0.001175\n",
       "2                                 extra  0.000918\n",
       "20                       day_month_drop  0.000847\n",
       "14                            day_month  0.000833\n",
       "6                  congestion_surcharge  0.000795\n",
       "26                    RatecodeID_Newark  0.000720\n",
       "29                      payment_type_cc  0.000575\n",
       "17                             day_drop  0.000494\n",
       "11                                  day  0.000492\n",
       "0                       passenger_count  0.000397\n",
       "7                           airport_fee  0.000323\n",
       "24                    RatecodeID_Nassau  0.000276\n",
       "39        hour_trip_evening_office_trip  0.000267\n",
       "32         passenger_cat_Two_passeneger  0.000253\n",
       "35           length_duration_short_trip  0.000226\n",
       "42               month_cat_mid_of_month  0.000210\n",
       "30                 payment_type_dispute  0.000170\n",
       "40        hour_trip_morning_office_trip  0.000169\n",
       "41                 hour_trip_night_trip  0.000166\n",
       "8                is_pu_do_location_same  0.000150\n",
       "33    passenger_cat_no_or_one_passenger  0.000133\n",
       "36  length_duration_very_long_time_trip  0.000130\n",
       "37              hour_trip_afternoo_trip  0.000122\n",
       "28                 store_and_fwd_flag_Y  0.000116\n",
       "31               payment_type_no_charge  0.000108\n",
       "38         hour_trip_early_morning_trip  0.000080\n",
       "43             month_cat_start_of_month  0.000071\n",
       "22                           is_weekend  0.000064\n",
       "34     length_duration_medium_time_trip  0.000046\n",
       "16                           month_drop  0.000000\n",
       "15                            year_drop  0.000000\n",
       "10                                month  0.000000\n",
       "9                                  year  0.000000"
      ]
     },
     "execution_count": 83,
     "metadata": {},
     "output_type": "execute_result"
    }
   ],
   "source": [
    "variable_imp"
   ]
  },
  {
   "cell_type": "code",
   "execution_count": 84,
   "id": "5b2231e7",
   "metadata": {},
   "outputs": [
    {
     "data": {
      "text/plain": [
       "array(['trip_distance', 'tip_amount', 'duration',\n",
       "       'RatecodeID_Standard_rate', 'tolls_amount', 'mta_tax',\n",
       "       'minute_drop', 'RatecodeID_Negotiated_fare', 'minute',\n",
       "       'VendorID_Verifone', 'hour_drop', 'hour', 'extra',\n",
       "       'day_month_drop', 'day_month', 'congestion_surcharge',\n",
       "       'RatecodeID_Newark', 'payment_type_cc', 'day_drop', 'day'],\n",
       "      dtype=object)"
      ]
     },
     "execution_count": 84,
     "metadata": {},
     "output_type": "execute_result"
    }
   ],
   "source": [
    "variable_imp.iloc[:20,][\"Var\"].values"
   ]
  },
  {
   "cell_type": "markdown",
   "id": "70ebc056",
   "metadata": {},
   "source": [
    "### In the above table we got some randomforest best feature_importances as imp. so here we can select 20 best features for our model."
   ]
  },
  {
   "cell_type": "code",
   "execution_count": 85,
   "id": "e6fac18b",
   "metadata": {},
   "outputs": [],
   "source": [
    "selected_var=['trip_distance', 'tip_amount', 'duration',\n",
    "       'RatecodeID_Standard_rate', 'tolls_amount', 'mta_tax',\n",
    "       'minute_drop', 'minute', 'hour_drop', 'congestion_surcharge',\n",
    "       'hour', 'day_month', 'day_month_drop',\n",
    "       'RatecodeID_Negotiated_fare', 'extra', 'day_drop', 'airport_fee',\n",
    "       'day', 'payment_type_cc', 'VendorID_Verifone']"
   ]
  },
  {
   "cell_type": "code",
   "execution_count": 86,
   "id": "d96a7453",
   "metadata": {},
   "outputs": [],
   "source": [
    "y=all_df[\"total_amount\"]\n",
    "x=all_df[selected_var]"
   ]
  },
  {
   "cell_type": "code",
   "execution_count": 87,
   "id": "27523adc",
   "metadata": {},
   "outputs": [],
   "source": [
    "x_train_select,x_test_select, y_train_select,y_test_select=train_test_split(x,y, test_size=.3, random_state=0)"
   ]
  },
  {
   "cell_type": "code",
   "execution_count": 88,
   "id": "68eae7c9",
   "metadata": {},
   "outputs": [
    {
     "name": "stdout",
     "output_type": "stream",
     "text": [
      "train_score 0.9970694269440042\n",
      "test_score 0.9814634618228911\n"
     ]
    }
   ],
   "source": [
    "rf=RandomForestRegressor()\n",
    "rf.fit(x_train_select, y_train_select)\n",
    "print(\"train_score\", rf.score(x_train_select, y_train_select))\n",
    "print(\"test_score\", rf.score(x_test_select, y_test_select)) "
   ]
  },
  {
   "cell_type": "markdown",
   "id": "e4adf1ca",
   "metadata": {},
   "source": [
    "### Now we can predict our model"
   ]
  },
  {
   "cell_type": "code",
   "execution_count": 89,
   "id": "ab3e5d74",
   "metadata": {},
   "outputs": [],
   "source": [
    "pred_train=rf.predict(x_train_select)\n",
    "pred_test=rf.predict(x_test_select)"
   ]
  },
  {
   "cell_type": "code",
   "execution_count": 90,
   "id": "7b225c6a",
   "metadata": {},
   "outputs": [
    {
     "data": {
      "text/plain": [
       "array([12.9388,  9.275 , 10.9247, ..., 18.95  , 10.55  ,  8.3915])"
      ]
     },
     "execution_count": 90,
     "metadata": {},
     "output_type": "execute_result"
    }
   ],
   "source": [
    "pred_train"
   ]
  },
  {
   "cell_type": "code",
   "execution_count": 91,
   "id": "b5e3827e",
   "metadata": {},
   "outputs": [
    {
     "data": {
      "text/plain": [
       "array([ 8.585 , 13.552 ,  7.2068, ..., 15.36  , 15.3575, 11.1593])"
      ]
     },
     "execution_count": 91,
     "metadata": {},
     "output_type": "execute_result"
    }
   ],
   "source": [
    "pred_test"
   ]
  },
  {
   "cell_type": "markdown",
   "id": "5bebedb4",
   "metadata": {},
   "source": [
    "### We can find MSE "
   ]
  },
  {
   "cell_type": "code",
   "execution_count": 92,
   "id": "5654519e",
   "metadata": {},
   "outputs": [
    {
     "name": "stdout",
     "output_type": "stream",
     "text": [
      "Train MSE :  0.8004824071253054\n",
      "Test MSE :  5.188578132011519\n"
     ]
    }
   ],
   "source": [
    "print(\"Train MSE : \", np.mean((pred_train-y_train_select)**2))\n",
    "print(\"Test MSE : \", np.mean((pred_test-y_test_select)**2))"
   ]
  },
  {
   "cell_type": "markdown",
   "id": "ba67266e",
   "metadata": {},
   "source": [
    "### We can find RMSE"
   ]
  },
  {
   "cell_type": "code",
   "execution_count": 93,
   "id": "215008e0",
   "metadata": {},
   "outputs": [
    {
     "name": "stdout",
     "output_type": "stream",
     "text": [
      "Train RMSE :  0.8946968241394989\n",
      "Test RMSE :  2.2778450632146865\n"
     ]
    }
   ],
   "source": [
    "print(\"Train RMSE : \", np.sqrt(np.mean((pred_train-y_train_select)**2)))\n",
    "print(\"Test RMSE : \", np.sqrt(np.mean((pred_test-y_test_select)**2)))"
   ]
  },
  {
   "cell_type": "markdown",
   "id": "486f4ea4",
   "metadata": {},
   "source": [
    "### We can find MAE"
   ]
  },
  {
   "cell_type": "code",
   "execution_count": 94,
   "id": "634cd43d",
   "metadata": {},
   "outputs": [
    {
     "name": "stdout",
     "output_type": "stream",
     "text": [
      "Train MAE 0.20909585583434942\n",
      "Test MAE 0.553818395405495\n"
     ]
    }
   ],
   "source": [
    "print(\"Train MAE\",np.mean(np.abs(pred_train-y_train_select) ))\n",
    "print(\"Test MAE\",np.mean(np.abs(pred_test-y_test_select) ))"
   ]
  },
  {
   "cell_type": "markdown",
   "id": "da1713c5",
   "metadata": {},
   "source": [
    "## We can apply GridSearchCV for best parameter, best estimator for our best moldel selection then we will see which model is best my data, Which can give us a best prediction."
   ]
  },
  {
   "cell_type": "code",
   "execution_count": 95,
   "id": "dd7c26f2",
   "metadata": {},
   "outputs": [],
   "source": [
    "from sklearn.model_selection import GridSearchCV"
   ]
  },
  {
   "cell_type": "markdown",
   "id": "61a28e90",
   "metadata": {},
   "source": [
    "### We can find some best params "
   ]
  },
  {
   "cell_type": "code",
   "execution_count": 96,
   "id": "709243fa",
   "metadata": {},
   "outputs": [
    {
     "name": "stdout",
     "output_type": "stream",
     "text": [
      "Fitting 10 folds for each of 18 candidates, totalling 180 fits\n"
     ]
    },
    {
     "data": {
      "text/plain": [
       "GridSearchCV(cv=10, estimator=RandomForestRegressor(random_state=0), n_jobs=-1,\n",
       "             param_grid={'bootstrap': [True], 'max_depth': [7, 9, 11],\n",
       "                         'min_samples_leaf': [5, 10, 15],\n",
       "                         'min_samples_split': [10, 20], 'n_estimators': [100],\n",
       "                         'oob_score': [True]},\n",
       "             verbose=2)"
      ]
     },
     "execution_count": 96,
     "metadata": {},
     "output_type": "execute_result"
    }
   ],
   "source": [
    "params={\"n_estimators\":[100],\n",
    "        #\"criterion\":[\"squared_error\", \"absolute_error\"],\n",
    "         \"max_depth\":[7,9,11],\n",
    "        \"min_samples_split\":[10,20],\n",
    "        \"min_samples_leaf\":[5,10,15],\n",
    "         #\"max_features\":[\"sqrt\", \"log2\"],\n",
    "        \"bootstrap\":[True],\n",
    "        \"oob_score\":[True]} \n",
    "rf0=RandomForestRegressor(random_state=0)\n",
    "gsearch=GridSearchCV(estimator=rf0, param_grid=params, cv=10, verbose=2, n_jobs=-1)\n",
    "gsearch.fit(x_train_select, y_train_select)"
   ]
  },
  {
   "cell_type": "code",
   "execution_count": 97,
   "id": "68987f73",
   "metadata": {},
   "outputs": [
    {
     "data": {
      "text/plain": [
       "{'bootstrap': True,\n",
       " 'max_depth': 11,\n",
       " 'min_samples_leaf': 5,\n",
       " 'min_samples_split': 20,\n",
       " 'n_estimators': 100,\n",
       " 'oob_score': True}"
      ]
     },
     "execution_count": 97,
     "metadata": {},
     "output_type": "execute_result"
    }
   ],
   "source": [
    "gsearch.best_params_"
   ]
  },
  {
   "cell_type": "markdown",
   "id": "457ba752",
   "metadata": {},
   "source": [
    "#### These are the best params"
   ]
  },
  {
   "cell_type": "code",
   "execution_count": 98,
   "id": "a9382122",
   "metadata": {},
   "outputs": [
    {
     "data": {
      "text/plain": [
       "13"
      ]
     },
     "execution_count": 98,
     "metadata": {},
     "output_type": "execute_result"
    }
   ],
   "source": [
    "gsearch.best_index_"
   ]
  },
  {
   "cell_type": "code",
   "execution_count": 99,
   "id": "8d006b2a",
   "metadata": {},
   "outputs": [
    {
     "data": {
      "text/plain": [
       "0.9778959493847312"
      ]
     },
     "execution_count": 99,
     "metadata": {},
     "output_type": "execute_result"
    }
   ],
   "source": [
    "gsearch.best_score_"
   ]
  },
  {
   "cell_type": "markdown",
   "id": "ccddc478",
   "metadata": {},
   "source": [
    "#### We got best_score  0.97 which is best."
   ]
  },
  {
   "cell_type": "code",
   "execution_count": 100,
   "id": "6af528c8",
   "metadata": {},
   "outputs": [],
   "source": [
    "rf_final=RandomForestRegressor(n_estimators=100,\n",
    "                               bootstrap=True, \n",
    "                               min_samples_split=10,\n",
    "                               min_samples_leaf=5,\n",
    "                               oob_score=True)"
   ]
  },
  {
   "cell_type": "code",
   "execution_count": 101,
   "id": "dbe93da7",
   "metadata": {},
   "outputs": [
    {
     "name": "stdout",
     "output_type": "stream",
     "text": [
      "train_score 0.9886187994229422\n",
      "test_score 0.9809854455773114\n"
     ]
    }
   ],
   "source": [
    "rf_final.fit(x_train_select, y_train_select)\n",
    "print(\"train_score\", rf_final.score(x_train_select, y_train_select))\n",
    "print(\"test_score\", rf_final.score(x_test_select, y_test_select))"
   ]
  },
  {
   "cell_type": "markdown",
   "id": "55bb9cf6",
   "metadata": {},
   "source": [
    "#### We got Train score : 0.98% and Test score :0 .98%   which is best."
   ]
  },
  {
   "cell_type": "markdown",
   "id": "5271e2a3",
   "metadata": {},
   "source": [
    "### Now we can predict our model."
   ]
  },
  {
   "cell_type": "code",
   "execution_count": 102,
   "id": "d69ce046",
   "metadata": {},
   "outputs": [],
   "source": [
    "pred_train=rf_final.predict(x_train_select)\n",
    "pred_test=rf_final.predict(x_test_select)"
   ]
  },
  {
   "cell_type": "code",
   "execution_count": 103,
   "id": "b92d1d19",
   "metadata": {},
   "outputs": [
    {
     "data": {
      "text/plain": [
       "array([12.94410786,  9.26978554, 11.01783352, ..., 18.9525375 ,\n",
       "       10.54400429,  8.37756731])"
      ]
     },
     "execution_count": 103,
     "metadata": {},
     "output_type": "execute_result"
    }
   ],
   "source": [
    "pred_train"
   ]
  },
  {
   "cell_type": "code",
   "execution_count": 104,
   "id": "2a03ae64",
   "metadata": {},
   "outputs": [
    {
     "data": {
      "text/plain": [
       "array([ 8.69884809, 13.57710848,  7.33318416, ..., 15.36373636,\n",
       "       15.28039392, 11.13370734])"
      ]
     },
     "execution_count": 104,
     "metadata": {},
     "output_type": "execute_result"
    }
   ],
   "source": [
    "pred_test"
   ]
  },
  {
   "cell_type": "markdown",
   "id": "70fbd473",
   "metadata": {},
   "source": [
    "### RMSE  "
   ]
  },
  {
   "cell_type": "code",
   "execution_count": 105,
   "id": "10933a23",
   "metadata": {},
   "outputs": [
    {
     "name": "stdout",
     "output_type": "stream",
     "text": [
      "Train RMSE :  1.7631678498774306\n",
      "Test RMSE :  2.3070284057583046\n"
     ]
    }
   ],
   "source": [
    "print(\"Train RMSE : \", np.sqrt(np.mean((pred_train-y_train_select)**2)))\n",
    "print(\"Test RMSE : \", np.sqrt(np.mean((pred_test-y_test_select)**2)))"
   ]
  },
  {
   "cell_type": "markdown",
   "id": "c68caaf1",
   "metadata": {},
   "source": [
    "### MAE"
   ]
  },
  {
   "cell_type": "code",
   "execution_count": 106,
   "id": "30db39f4",
   "metadata": {},
   "outputs": [
    {
     "name": "stdout",
     "output_type": "stream",
     "text": [
      "Train MAE 0.4110649709670102\n",
      "Test MAE 0.5883696423852758\n"
     ]
    }
   ],
   "source": [
    "print(\"Train MAE\",np.mean(np.abs(pred_train-y_train_select) ))\n",
    "print(\"Test MAE\",np.mean(np.abs(pred_test-y_test_select) ))"
   ]
  },
  {
   "cell_type": "code",
   "execution_count": 107,
   "id": "375dd6eb",
   "metadata": {},
   "outputs": [],
   "source": [
    "from sklearn.metrics import r2_score"
   ]
  },
  {
   "cell_type": "code",
   "execution_count": 108,
   "id": "1ff1bfcc",
   "metadata": {},
   "outputs": [],
   "source": [
    "r2 = r2_score(y_test_select, pred_test)"
   ]
  },
  {
   "cell_type": "code",
   "execution_count": 109,
   "id": "5b5fd5d0",
   "metadata": {},
   "outputs": [
    {
     "name": "stdout",
     "output_type": "stream",
     "text": [
      "R2 Score : 0.9809854455773114\n"
     ]
    }
   ],
   "source": [
    "print('R2 Score :', r2)"
   ]
  },
  {
   "cell_type": "code",
   "execution_count": null,
   "id": "2401bacb",
   "metadata": {},
   "outputs": [],
   "source": []
  }
 ],
 "metadata": {
  "kernelspec": {
   "display_name": "Python 3 (ipykernel)",
   "language": "python",
   "name": "python3"
  },
  "language_info": {
   "codemirror_mode": {
    "name": "ipython",
    "version": 3
   },
   "file_extension": ".py",
   "mimetype": "text/x-python",
   "name": "python",
   "nbconvert_exporter": "python",
   "pygments_lexer": "ipython3",
   "version": "3.9.13"
  }
 },
 "nbformat": 4,
 "nbformat_minor": 5
}
